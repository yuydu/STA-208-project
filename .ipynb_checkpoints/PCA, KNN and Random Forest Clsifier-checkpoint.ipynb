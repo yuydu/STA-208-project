{
 "cells": [
  {
   "cell_type": "markdown",
   "metadata": {},
   "source": [
    "### Please start from [30]"
   ]
  },
  {
   "cell_type": "code",
   "execution_count": 1,
   "metadata": {
    "collapsed": true
   },
   "outputs": [],
   "source": [
    "import numpy as np\n",
    "import pandas as pd\n",
    "import os\n",
    "import sqlalchemy as sqla\n",
    "import sqlite3 as sql\n",
    "from sqlite3 import Error\n",
    "import re\n",
    "\n",
    "import matplotlib as mpl\n",
    "import matplotlib.pyplot as plt\n",
    "import seaborn as sns\n",
    "\n",
    "%matplotlib inline\n",
    "plt.style.use('ggplot')"
   ]
  },
  {
   "cell_type": "code",
   "execution_count": 2,
   "metadata": {
    "collapsed": true
   },
   "outputs": [],
   "source": [
    "file_loc = os.getcwd()"
   ]
  },
  {
   "cell_type": "code",
   "execution_count": 3,
   "metadata": {},
   "outputs": [
    {
     "data": {
      "text/plain": [
       "'C:\\\\Users\\\\KH7020823\\\\sta208\\\\STA-208-project'"
      ]
     },
     "execution_count": 3,
     "metadata": {},
     "output_type": "execute_result"
    }
   ],
   "source": [
    "file_loc"
   ]
  },
  {
   "cell_type": "code",
   "execution_count": 4,
   "metadata": {
    "collapsed": true
   },
   "outputs": [],
   "source": [
    "db1= sql.connect(file_loc+\"\\data1.db\")\n",
    "df1=pd.read_sql(\"SELECT * FROM loan\",db1)\n",
    "db2= sql.connect(file_loc+\"\\data2.db\")\n",
    "df2=pd.read_sql(\"SELECT * FROM loan\",db2)\n",
    "db3= sql.connect(file_loc+\"\\data3.db\")\n",
    "df3=pd.read_sql(\"SELECT * FROM loan\",db3)\n",
    "db4= sql.connect(file_loc+\"\\data4.db\")\n",
    "df4=pd.read_sql(\"SELECT * FROM loan\",db4)\n",
    "db5= sql.connect(file_loc+\"\\data5.db\")\n",
    "df5=pd.read_sql(\"SELECT * FROM loan\",db5)\n",
    "db6= sql.connect(file_loc+\"\\data6.db\")\n",
    "df6=pd.read_sql(\"SELECT * FROM loan\",db6)\n",
    "db7= sql.connect(file_loc+\"\\data7.db\")\n",
    "df7=pd.read_sql(\"SELECT * FROM loan\",db7)\n",
    "db8= sql.connect(file_loc+\"\\data8.db\")\n",
    "df8=pd.read_sql(\"SELECT * FROM loan\",db8)\n",
    "db9= sql.connect(file_loc+\"\\data9.db\")\n",
    "df9=pd.read_sql(\"SELECT * FROM loan\",db9)\n",
    "db10= sql.connect(file_loc+\"\\data10.db\")\n",
    "df10=pd.read_sql(\"SELECT * FROM loan\",db10)\n",
    "db11= sql.connect(file_loc+\"\\data11.db\")\n",
    "df11=pd.read_sql(\"SELECT * FROM loan\",db11)\n",
    "db12= sql.connect(file_loc+\"\\data12.db\")\n",
    "df12=pd.read_sql(\"SELECT * FROM loan\",db12)"
   ]
  },
  {
   "cell_type": "code",
   "execution_count": 5,
   "metadata": {},
   "outputs": [
    {
     "data": {
      "text/plain": [
       "(434407, 65)"
      ]
     },
     "execution_count": 5,
     "metadata": {},
     "output_type": "execute_result"
    }
   ],
   "source": [
    "df = pd.DataFrame()\n",
    "df = df.append(df1)\n",
    "df = df.append(df2)\n",
    "df = df.append(df3)\n",
    "df = df.append(df4)\n",
    "df = df.append(df5)\n",
    "df = df.append(df6)\n",
    "df = df.append(df7)\n",
    "df = df.append(df8)\n",
    "df = df.append(df9)\n",
    "df = df.append(df10)\n",
    "df = df.append(df11)\n",
    "df = df.append(df12)\n",
    "df.shape"
   ]
  },
  {
   "cell_type": "code",
   "execution_count": 6,
   "metadata": {},
   "outputs": [
    {
     "data": {
      "text/html": [
       "<div>\n",
       "<style scoped>\n",
       "    .dataframe tbody tr th:only-of-type {\n",
       "        vertical-align: middle;\n",
       "    }\n",
       "\n",
       "    .dataframe tbody tr th {\n",
       "        vertical-align: top;\n",
       "    }\n",
       "\n",
       "    .dataframe thead th {\n",
       "        text-align: right;\n",
       "    }\n",
       "</style>\n",
       "<table border=\"1\" class=\"dataframe\">\n",
       "  <thead>\n",
       "    <tr style=\"text-align: right;\">\n",
       "      <th></th>\n",
       "      <th>loan_amnt</th>\n",
       "      <th>funded_amnt</th>\n",
       "      <th>funded_amnt_inv</th>\n",
       "      <th>term</th>\n",
       "      <th>int_rate</th>\n",
       "      <th>installment</th>\n",
       "      <th>grade</th>\n",
       "      <th>sub_grade</th>\n",
       "      <th>home_ownership</th>\n",
       "      <th>annual_inc</th>\n",
       "      <th>...</th>\n",
       "      <th>num_sats</th>\n",
       "      <th>num_tl_90g_dpd_24m</th>\n",
       "      <th>num_tl_op_past_12m</th>\n",
       "      <th>pct_tl_nvr_dlq</th>\n",
       "      <th>pub_rec_bankruptcies</th>\n",
       "      <th>tax_liens</th>\n",
       "      <th>tot_hi_cred_lim</th>\n",
       "      <th>total_bal_ex_mort</th>\n",
       "      <th>total_bc_limit</th>\n",
       "      <th>total_il_high_credit_limit</th>\n",
       "    </tr>\n",
       "  </thead>\n",
       "  <tbody>\n",
       "    <tr>\n",
       "      <th>0</th>\n",
       "      <td>17600</td>\n",
       "      <td>17600</td>\n",
       "      <td>17600</td>\n",
       "      <td>36 months</td>\n",
       "      <td>10.75%</td>\n",
       "      <td>574.12</td>\n",
       "      <td>B</td>\n",
       "      <td>B4</td>\n",
       "      <td>RENT</td>\n",
       "      <td>57109</td>\n",
       "      <td>...</td>\n",
       "      <td>6</td>\n",
       "      <td>0</td>\n",
       "      <td>1</td>\n",
       "      <td>95.1</td>\n",
       "      <td>1</td>\n",
       "      <td>0</td>\n",
       "      <td>88629</td>\n",
       "      <td>83563</td>\n",
       "      <td>2300</td>\n",
       "      <td>80329</td>\n",
       "    </tr>\n",
       "    <tr>\n",
       "      <th>1</th>\n",
       "      <td>12500</td>\n",
       "      <td>12500</td>\n",
       "      <td>12500</td>\n",
       "      <td>60 months</td>\n",
       "      <td>8.39%</td>\n",
       "      <td>255.8</td>\n",
       "      <td>B</td>\n",
       "      <td>B1</td>\n",
       "      <td>RENT</td>\n",
       "      <td>120000</td>\n",
       "      <td>...</td>\n",
       "      <td>9</td>\n",
       "      <td>0</td>\n",
       "      <td>1</td>\n",
       "      <td>100</td>\n",
       "      <td>0</td>\n",
       "      <td>0</td>\n",
       "      <td>80899</td>\n",
       "      <td>40673</td>\n",
       "      <td>48400</td>\n",
       "      <td>32499</td>\n",
       "    </tr>\n",
       "    <tr>\n",
       "      <th>2</th>\n",
       "      <td>10000</td>\n",
       "      <td>10000</td>\n",
       "      <td>10000</td>\n",
       "      <td>36 months</td>\n",
       "      <td>11.99%</td>\n",
       "      <td>332.1</td>\n",
       "      <td>C</td>\n",
       "      <td>C1</td>\n",
       "      <td>MORTGAGE</td>\n",
       "      <td>75000</td>\n",
       "      <td>...</td>\n",
       "      <td>9</td>\n",
       "      <td>0</td>\n",
       "      <td>2</td>\n",
       "      <td>100</td>\n",
       "      <td>0</td>\n",
       "      <td>1</td>\n",
       "      <td>71858</td>\n",
       "      <td>48844</td>\n",
       "      <td>0</td>\n",
       "      <td>60358</td>\n",
       "    </tr>\n",
       "    <tr>\n",
       "      <th>3</th>\n",
       "      <td>3000</td>\n",
       "      <td>3000</td>\n",
       "      <td>3000</td>\n",
       "      <td>36 months</td>\n",
       "      <td>7.39%</td>\n",
       "      <td>93.17</td>\n",
       "      <td>A</td>\n",
       "      <td>A4</td>\n",
       "      <td>RENT</td>\n",
       "      <td>80000</td>\n",
       "      <td>...</td>\n",
       "      <td>6</td>\n",
       "      <td>0</td>\n",
       "      <td>0</td>\n",
       "      <td>95</td>\n",
       "      <td>0</td>\n",
       "      <td>0</td>\n",
       "      <td>221908</td>\n",
       "      <td>25665</td>\n",
       "      <td>42200</td>\n",
       "      <td>30936</td>\n",
       "    </tr>\n",
       "    <tr>\n",
       "      <th>4</th>\n",
       "      <td>2000</td>\n",
       "      <td>2000</td>\n",
       "      <td>2000</td>\n",
       "      <td>36 months</td>\n",
       "      <td>6.49%</td>\n",
       "      <td>61.29</td>\n",
       "      <td>A</td>\n",
       "      <td>A2</td>\n",
       "      <td>RENT</td>\n",
       "      <td>90000</td>\n",
       "      <td>...</td>\n",
       "      <td>19</td>\n",
       "      <td>0</td>\n",
       "      <td>2</td>\n",
       "      <td>97.3</td>\n",
       "      <td>0</td>\n",
       "      <td>0</td>\n",
       "      <td>176338</td>\n",
       "      <td>68841</td>\n",
       "      <td>122100</td>\n",
       "      <td>48438</td>\n",
       "    </tr>\n",
       "  </tbody>\n",
       "</table>\n",
       "<p>5 rows × 65 columns</p>\n",
       "</div>"
      ],
      "text/plain": [
       "   loan_amnt  funded_amnt funded_amnt_inv        term int_rate installment  \\\n",
       "0      17600        17600           17600   36 months   10.75%      574.12   \n",
       "1      12500        12500           12500   60 months    8.39%       255.8   \n",
       "2      10000        10000           10000   36 months   11.99%       332.1   \n",
       "3       3000         3000            3000   36 months    7.39%       93.17   \n",
       "4       2000         2000            2000   36 months    6.49%       61.29   \n",
       "\n",
       "  grade sub_grade home_ownership annual_inc             ...              \\\n",
       "0     B        B4           RENT      57109             ...               \n",
       "1     B        B1           RENT     120000             ...               \n",
       "2     C        C1       MORTGAGE      75000             ...               \n",
       "3     A        A4           RENT      80000             ...               \n",
       "4     A        A2           RENT      90000             ...               \n",
       "\n",
       "  num_sats num_tl_90g_dpd_24m num_tl_op_past_12m pct_tl_nvr_dlq  \\\n",
       "0        6                  0                  1           95.1   \n",
       "1        9                  0                  1            100   \n",
       "2        9                  0                  2            100   \n",
       "3        6                  0                  0             95   \n",
       "4       19                  0                  2           97.3   \n",
       "\n",
       "  pub_rec_bankruptcies tax_liens  tot_hi_cred_lim total_bal_ex_mort  \\\n",
       "0                    1         0            88629             83563   \n",
       "1                    0         0            80899             40673   \n",
       "2                    0         1            71858             48844   \n",
       "3                    0         0           221908             25665   \n",
       "4                    0         0           176338             68841   \n",
       "\n",
       "   total_bc_limit  total_il_high_credit_limit  \n",
       "0            2300                       80329  \n",
       "1           48400                       32499  \n",
       "2               0                       60358  \n",
       "3           42200                       30936  \n",
       "4          122100                       48438  \n",
       "\n",
       "[5 rows x 65 columns]"
      ]
     },
     "execution_count": 6,
     "metadata": {},
     "output_type": "execute_result"
    }
   ],
   "source": [
    "df.head()"
   ]
  },
  {
   "cell_type": "code",
   "execution_count": 7,
   "metadata": {
    "collapsed": true
   },
   "outputs": [],
   "source": [
    "data = df.copy()\n",
    "\n",
    "col_drop = ['grade','sub_grade','issue_d','earliest_cr_line','grade','zip_code',\n",
    "            'last_credit_pull_d', 'total_pymnt_inv','funded_amnt','funded_amnt_inv']\n",
    "data = data.drop(col_drop, axis = 1)\n",
    "data = data.reset_index(drop=True)"
   ]
  },
  {
   "cell_type": "code",
   "execution_count": 8,
   "metadata": {
    "collapsed": true
   },
   "outputs": [],
   "source": [
    "y_temp = data['loan_status']"
   ]
  },
  {
   "cell_type": "code",
   "execution_count": 9,
   "metadata": {
    "collapsed": true
   },
   "outputs": [],
   "source": [
    "# recode loan_status\n",
    "y = y_temp.copy()\n",
    "for i in range(len(y)):\n",
    "    if (y_temp[i] == 'Fully Paid') or (y_temp[i] == 'Current'):\n",
    "        y[i] = 'good'\n",
    "    else:\n",
    "        y[i] = 'bad'"
   ]
  },
  {
   "cell_type": "code",
   "execution_count": 10,
   "metadata": {},
   "outputs": [
    {
     "data": {
      "text/plain": [
       "0    good\n",
       "1    good\n",
       "2    good\n",
       "3    good\n",
       "4    good\n",
       "Name: loan_status, dtype: object"
      ]
     },
     "execution_count": 10,
     "metadata": {},
     "output_type": "execute_result"
    }
   ],
   "source": [
    "y.head()"
   ]
  },
  {
   "cell_type": "code",
   "execution_count": 11,
   "metadata": {
    "collapsed": true
   },
   "outputs": [],
   "source": [
    "purpose_temp = data['purpose']"
   ]
  },
  {
   "cell_type": "code",
   "execution_count": 12,
   "metadata": {
    "collapsed": true
   },
   "outputs": [],
   "source": [
    "purpose = purpose_temp.copy()\n",
    "for i in range(len(purpose)):\n",
    "    if (purpose_temp[i] == 'credit_card') or ( purpose_temp[i] == 'debt_consolidation') or (purpose_temp[i] == 'small_business') or (purpose_temp[i] == 'vacation') or (purpose_temp[i] == 'other'):\n",
    "        purpose[i] = 'finantial'\n",
    "    elif purpose_temp[i] == 'medical':\n",
    "        purpose[i] == 'medical'\n",
    "    else:\n",
    "        purpose[i] = 'property'"
   ]
  },
  {
   "cell_type": "code",
   "execution_count": 13,
   "metadata": {
    "scrolled": true
   },
   "outputs": [
    {
     "data": {
      "text/plain": [
       "0    finantial\n",
       "1    finantial\n",
       "2    finantial\n",
       "3    finantial\n",
       "4    finantial\n",
       "Name: purpose, dtype: object"
      ]
     },
     "execution_count": 13,
     "metadata": {},
     "output_type": "execute_result"
    }
   ],
   "source": [
    "purpose.head()"
   ]
  },
  {
   "cell_type": "code",
   "execution_count": 14,
   "metadata": {
    "collapsed": true
   },
   "outputs": [],
   "source": [
    "addr_state_temp = data['addr_state']"
   ]
  },
  {
   "cell_type": "code",
   "execution_count": 15,
   "metadata": {
    "collapsed": true
   },
   "outputs": [],
   "source": [
    "#recode addr_state\n",
    "addr_state = addr_state_temp.copy()\n",
    "for i in range(len(y)):\n",
    "    if addr_state_temp[i] == 'CA':\n",
    "        addr_state[i] = 'CA'\n",
    "    else:\n",
    "        addr_state[i] = 'other'"
   ]
  },
  {
   "cell_type": "code",
   "execution_count": 16,
   "metadata": {},
   "outputs": [
    {
     "data": {
      "text/plain": [
       "0    other\n",
       "1    other\n",
       "2    other\n",
       "3    other\n",
       "4    other\n",
       "Name: addr_state, dtype: object"
      ]
     },
     "execution_count": 16,
     "metadata": {},
     "output_type": "execute_result"
    }
   ],
   "source": [
    "addr_state.head()"
   ]
  },
  {
   "cell_type": "code",
   "execution_count": 17,
   "metadata": {
    "collapsed": true
   },
   "outputs": [],
   "source": [
    "verification_status_temp = data['verification_status']"
   ]
  },
  {
   "cell_type": "code",
   "execution_count": 18,
   "metadata": {
    "collapsed": true
   },
   "outputs": [],
   "source": [
    "#recode addr_state\n",
    "verification_status = verification_status_temp.copy()\n",
    "for i in range(len(y)):\n",
    "    if verification_status_temp[i] == 'Not Verified':\n",
    "        verification_status[i] = 'not verified'\n",
    "    else:\n",
    "        verification_status[i] = 'verified'"
   ]
  },
  {
   "cell_type": "code",
   "execution_count": 19,
   "metadata": {},
   "outputs": [
    {
     "data": {
      "text/plain": [
       "0        verified\n",
       "1    not verified\n",
       "2    not verified\n",
       "3    not verified\n",
       "4    not verified\n",
       "Name: verification_status, dtype: object"
      ]
     },
     "execution_count": 19,
     "metadata": {},
     "output_type": "execute_result"
    }
   ],
   "source": [
    "verification_status.head()"
   ]
  },
  {
   "cell_type": "code",
   "execution_count": 20,
   "metadata": {
    "collapsed": true
   },
   "outputs": [],
   "source": [
    "#Create dummy variables\n",
    "dummy1 = pd.get_dummies(y)\n",
    "dummy2 = pd.get_dummies(purpose)\n",
    "dummy3 = pd.get_dummies(addr_state)\n",
    "dummy4 = pd.get_dummies(data['term'])\n",
    "dummy5 = pd.get_dummies(data['home_ownership'])\n",
    "dummy6 = pd.get_dummies(verification_status)\n",
    "dummy7 = pd.get_dummies(data['initial_list_status'])\n",
    "dummy8 = pd.get_dummies(data['application_type'])"
   ]
  },
  {
   "cell_type": "code",
   "execution_count": 21,
   "metadata": {
    "collapsed": true
   },
   "outputs": [],
   "source": [
    "data_category = ['loan_status','verification_status','addr_state', 'term', 'initial_list_status',\n",
    "                 'application_type','finantial','medical','property','MORTGAGE','OWN','RENT']"
   ]
  },
  {
   "cell_type": "code",
   "execution_count": 22,
   "metadata": {
    "scrolled": false
   },
   "outputs": [
    {
     "data": {
      "text/html": [
       "<div>\n",
       "<style scoped>\n",
       "    .dataframe tbody tr th:only-of-type {\n",
       "        vertical-align: middle;\n",
       "    }\n",
       "\n",
       "    .dataframe tbody tr th {\n",
       "        vertical-align: top;\n",
       "    }\n",
       "\n",
       "    .dataframe thead th {\n",
       "        text-align: right;\n",
       "    }\n",
       "</style>\n",
       "<table border=\"1\" class=\"dataframe\">\n",
       "  <thead>\n",
       "    <tr style=\"text-align: right;\">\n",
       "      <th></th>\n",
       "      <th>loan_amnt</th>\n",
       "      <th>term</th>\n",
       "      <th>int_rate</th>\n",
       "      <th>installment</th>\n",
       "      <th>annual_inc</th>\n",
       "      <th>verification_status</th>\n",
       "      <th>loan_status</th>\n",
       "      <th>addr_state</th>\n",
       "      <th>delinq_2yrs</th>\n",
       "      <th>open_acc</th>\n",
       "      <th>...</th>\n",
       "      <th>tax_liens</th>\n",
       "      <th>tot_hi_cred_lim</th>\n",
       "      <th>total_bal_ex_mort</th>\n",
       "      <th>total_bc_limit</th>\n",
       "      <th>total_il_high_credit_limit</th>\n",
       "      <th>finantial</th>\n",
       "      <th>property</th>\n",
       "      <th>MORTGAGE</th>\n",
       "      <th>OWN</th>\n",
       "      <th>RENT</th>\n",
       "    </tr>\n",
       "  </thead>\n",
       "  <tbody>\n",
       "    <tr>\n",
       "      <th>0</th>\n",
       "      <td>17600.0</td>\n",
       "      <td>1.0</td>\n",
       "      <td>0.1075</td>\n",
       "      <td>574.12</td>\n",
       "      <td>57109.0</td>\n",
       "      <td>1.0</td>\n",
       "      <td>1.0</td>\n",
       "      <td>0.0</td>\n",
       "      <td>0.0</td>\n",
       "      <td>6.0</td>\n",
       "      <td>...</td>\n",
       "      <td>0.0</td>\n",
       "      <td>88629.0</td>\n",
       "      <td>83563.0</td>\n",
       "      <td>2300.0</td>\n",
       "      <td>80329.0</td>\n",
       "      <td>1.0</td>\n",
       "      <td>0.0</td>\n",
       "      <td>0.0</td>\n",
       "      <td>0.0</td>\n",
       "      <td>1.0</td>\n",
       "    </tr>\n",
       "    <tr>\n",
       "      <th>1</th>\n",
       "      <td>12500.0</td>\n",
       "      <td>0.0</td>\n",
       "      <td>0.0839</td>\n",
       "      <td>255.80</td>\n",
       "      <td>120000.0</td>\n",
       "      <td>0.0</td>\n",
       "      <td>1.0</td>\n",
       "      <td>0.0</td>\n",
       "      <td>0.0</td>\n",
       "      <td>9.0</td>\n",
       "      <td>...</td>\n",
       "      <td>0.0</td>\n",
       "      <td>80899.0</td>\n",
       "      <td>40673.0</td>\n",
       "      <td>48400.0</td>\n",
       "      <td>32499.0</td>\n",
       "      <td>1.0</td>\n",
       "      <td>0.0</td>\n",
       "      <td>0.0</td>\n",
       "      <td>0.0</td>\n",
       "      <td>1.0</td>\n",
       "    </tr>\n",
       "    <tr>\n",
       "      <th>2</th>\n",
       "      <td>10000.0</td>\n",
       "      <td>1.0</td>\n",
       "      <td>0.1199</td>\n",
       "      <td>332.10</td>\n",
       "      <td>75000.0</td>\n",
       "      <td>0.0</td>\n",
       "      <td>1.0</td>\n",
       "      <td>0.0</td>\n",
       "      <td>0.0</td>\n",
       "      <td>9.0</td>\n",
       "      <td>...</td>\n",
       "      <td>1.0</td>\n",
       "      <td>71858.0</td>\n",
       "      <td>48844.0</td>\n",
       "      <td>0.0</td>\n",
       "      <td>60358.0</td>\n",
       "      <td>1.0</td>\n",
       "      <td>0.0</td>\n",
       "      <td>1.0</td>\n",
       "      <td>0.0</td>\n",
       "      <td>0.0</td>\n",
       "    </tr>\n",
       "    <tr>\n",
       "      <th>3</th>\n",
       "      <td>3000.0</td>\n",
       "      <td>1.0</td>\n",
       "      <td>0.0739</td>\n",
       "      <td>93.17</td>\n",
       "      <td>80000.0</td>\n",
       "      <td>0.0</td>\n",
       "      <td>1.0</td>\n",
       "      <td>0.0</td>\n",
       "      <td>1.0</td>\n",
       "      <td>6.0</td>\n",
       "      <td>...</td>\n",
       "      <td>0.0</td>\n",
       "      <td>221908.0</td>\n",
       "      <td>25665.0</td>\n",
       "      <td>42200.0</td>\n",
       "      <td>30936.0</td>\n",
       "      <td>1.0</td>\n",
       "      <td>0.0</td>\n",
       "      <td>0.0</td>\n",
       "      <td>0.0</td>\n",
       "      <td>1.0</td>\n",
       "    </tr>\n",
       "    <tr>\n",
       "      <th>4</th>\n",
       "      <td>2000.0</td>\n",
       "      <td>1.0</td>\n",
       "      <td>0.0649</td>\n",
       "      <td>61.29</td>\n",
       "      <td>90000.0</td>\n",
       "      <td>0.0</td>\n",
       "      <td>1.0</td>\n",
       "      <td>0.0</td>\n",
       "      <td>0.0</td>\n",
       "      <td>19.0</td>\n",
       "      <td>...</td>\n",
       "      <td>0.0</td>\n",
       "      <td>176338.0</td>\n",
       "      <td>68841.0</td>\n",
       "      <td>122100.0</td>\n",
       "      <td>48438.0</td>\n",
       "      <td>1.0</td>\n",
       "      <td>0.0</td>\n",
       "      <td>0.0</td>\n",
       "      <td>0.0</td>\n",
       "      <td>1.0</td>\n",
       "    </tr>\n",
       "  </tbody>\n",
       "</table>\n",
       "<p>5 rows × 59 columns</p>\n",
       "</div>"
      ],
      "text/plain": [
       "   loan_amnt  term  int_rate  installment  annual_inc  verification_status  \\\n",
       "0    17600.0   1.0    0.1075       574.12     57109.0                  1.0   \n",
       "1    12500.0   0.0    0.0839       255.80    120000.0                  0.0   \n",
       "2    10000.0   1.0    0.1199       332.10     75000.0                  0.0   \n",
       "3     3000.0   1.0    0.0739        93.17     80000.0                  0.0   \n",
       "4     2000.0   1.0    0.0649        61.29     90000.0                  0.0   \n",
       "\n",
       "   loan_status  addr_state  delinq_2yrs  open_acc  ...   tax_liens  \\\n",
       "0          1.0         0.0          0.0       6.0  ...         0.0   \n",
       "1          1.0         0.0          0.0       9.0  ...         0.0   \n",
       "2          1.0         0.0          0.0       9.0  ...         1.0   \n",
       "3          1.0         0.0          1.0       6.0  ...         0.0   \n",
       "4          1.0         0.0          0.0      19.0  ...         0.0   \n",
       "\n",
       "   tot_hi_cred_lim  total_bal_ex_mort  total_bc_limit  \\\n",
       "0          88629.0            83563.0          2300.0   \n",
       "1          80899.0            40673.0         48400.0   \n",
       "2          71858.0            48844.0             0.0   \n",
       "3         221908.0            25665.0         42200.0   \n",
       "4         176338.0            68841.0        122100.0   \n",
       "\n",
       "   total_il_high_credit_limit  finantial  property  MORTGAGE  OWN  RENT  \n",
       "0                     80329.0        1.0       0.0       0.0  0.0   1.0  \n",
       "1                     32499.0        1.0       0.0       0.0  0.0   1.0  \n",
       "2                     60358.0        1.0       0.0       1.0  0.0   0.0  \n",
       "3                     30936.0        1.0       0.0       0.0  0.0   1.0  \n",
       "4                     48438.0        1.0       0.0       0.0  0.0   1.0  \n",
       "\n",
       "[5 rows x 59 columns]"
      ]
     },
     "execution_count": 22,
     "metadata": {},
     "output_type": "execute_result"
    }
   ],
   "source": [
    "#Insert dummy variables into dataset\n",
    "data['loan_status'] = dummy1['good']\n",
    "data['addr_state'] = dummy3['CA']\n",
    "data['term'] = dummy4[' 36 months']\n",
    "data['verification_status'] = dummy6['verified']\n",
    "data['initial_list_status'] = dummy7['w']\n",
    "data['application_type'] = dummy8['Individual']\n",
    "\n",
    "data = data.drop(['purpose','home_ownership'], axis = 1)\n",
    "data = pd.concat([data, dummy2.iloc[:,[0,2]],dummy5.iloc[:,1:4]],axis = 1)\n",
    "\n",
    "# convert all data as float\n",
    "data['int_rate'] = [x[:-1] for x in data['int_rate']]\n",
    "data = data.astype(float)\n",
    "data['int_rate'] = data['int_rate']/100\n",
    "\n",
    "data.head()"
   ]
  },
  {
   "cell_type": "code",
   "execution_count": 23,
   "metadata": {
    "collapsed": true
   },
   "outputs": [],
   "source": [
    "data_lasso = data.copy()"
   ]
  },
  {
   "cell_type": "code",
   "execution_count": 24,
   "metadata": {
    "collapsed": true,
    "scrolled": true
   },
   "outputs": [],
   "source": [
    "from  sklearn.preprocessing  import scale\n",
    "data_lasso[data.columns[~data_lasso.columns.isin(data_category)]]=scale(data_lasso[data.columns[~data_lasso.columns.isin(data_category)]])"
   ]
  },
  {
   "cell_type": "code",
   "execution_count": 25,
   "metadata": {
    "collapsed": true
   },
   "outputs": [],
   "source": [
    "X = data_lasso[data_lasso.columns.difference(['loan_status'])].values\n",
    "y = data_lasso.loc[:, 'loan_status'].values"
   ]
  },
  {
   "cell_type": "code",
   "execution_count": 26,
   "metadata": {
    "collapsed": true
   },
   "outputs": [],
   "source": [
    "X=X.astype(float)"
   ]
  },
  {
   "cell_type": "code",
   "execution_count": 27,
   "metadata": {
    "collapsed": true
   },
   "outputs": [],
   "source": [
    "selected_X_0 = ['loan_amnt', 'term', 'int_rate', 'annual_inc', 'out_prncp',\n",
    "       'total_rec_prncp', 'total_rec_int', 'total_rec_late_fee', 'recoveries',\n",
    "       'last_pymnt_amnt', 'num_bc_tl', 'num_op_rev_tl', 'num_rev_tl_bal_gt_0',\n",
    "       'num_tl_op_past_12m', 'total_bc_limit', 'finantial', 'property',\n",
    "       'MORTGAGE']"
   ]
  },
  {
   "cell_type": "code",
   "execution_count": 28,
   "metadata": {
    "collapsed": true
   },
   "outputs": [],
   "source": [
    "data_fnl = pd.concat([data_lasso[selected_X_0], data_lasso['loan_status']],axis = 1)"
   ]
  },
  {
   "cell_type": "code",
   "execution_count": 29,
   "metadata": {
    "collapsed": true
   },
   "outputs": [],
   "source": [
    "### training and test set split\n",
    "#Split the data into training set(75% of data) and testing set(25% of data)\n",
    "from sklearn.model_selection import train_test_split\n",
    "\n",
    "train, test = train_test_split(data_fnl, test_size = 0.25, random_state = 0)\n",
    "\n",
    "## get the train and test data set\n",
    "X_tr = train[train.columns.difference(['loan_status'])].values\n",
    "y_tr = train.loc[:, 'loan_status'].values\n",
    "\n",
    "X_te = test[test.columns.difference(['loan_status'])].values\n",
    "y_te = test.loc[:, 'loan_status'].values"
   ]
  },
  {
   "cell_type": "markdown",
   "metadata": {
    "collapsed": true
   },
   "source": [
    "### PCA\n",
    "\n",
    "https://jakevdp.github.io/PythonDataScienceHandbook/05.09-principal-component-analysis.html\n",
    "\n",
    "http://scikit-learn.org/stable/auto_examples/datasets/plot_iris_dataset.html#sphx-glr-auto-examples-datasets-plot-iris-dataset-py\n"
   ]
  },
  {
   "cell_type": "markdown",
   "metadata": {},
   "source": [
    "So far we have 60 predictor variables in total, whose data dimension is too large to distinguish important variables that have significant influence on the loan status. Therefore, in order for a clearer interpretation of the differences between borrowers that lead to different loan status, dimension reduction of these predictor variables is necessary.\n",
    "\n",
    "Here we use Principal Component Analysis(PCA) to complete the data dimension reduction."
   ]
  },
  {
   "cell_type": "code",
   "execution_count": 30,
   "metadata": {
    "collapsed": true
   },
   "outputs": [],
   "source": [
    "import matplotlib.pyplot as plt\n",
    "from mpl_toolkits.mplot3d import Axes3D\n",
    "from sklearn import datasets\n",
    "from sklearn.decomposition import PCA"
   ]
  },
  {
   "cell_type": "code",
   "execution_count": 31,
   "metadata": {},
   "outputs": [
    {
     "data": {
      "text/plain": [
       "PCA(copy=True, iterated_power='auto', n_components=None, random_state=None,\n",
       "  svd_solver='auto', tol=0.0, whiten=False)"
      ]
     },
     "execution_count": 31,
     "metadata": {},
     "output_type": "execute_result"
    }
   ],
   "source": [
    "#Apply the principal components analysis\n",
    "pca = PCA()\n",
    "pca.fit(X)"
   ]
  },
  {
   "cell_type": "code",
   "execution_count": 32,
   "metadata": {},
   "outputs": [
    {
     "name": "stdout",
     "output_type": "stream",
     "text": [
      "[[  4.14048417e-02  -2.15669009e-04  -4.11911107e-02 ...,   1.27715765e-01\n",
      "    2.17488626e-01  -4.71543507e-03]\n",
      " [  5.75601853e-02  -6.00276479e-03  -5.15485594e-02 ...,   2.16505075e-01\n",
      "    7.79098405e-02   4.02120635e-03]\n",
      " [  6.25598321e-02  -5.17241231e-03  -5.74144424e-02 ...,  -8.05765614e-02\n",
      "   -2.91645009e-02  -6.69641624e-03]\n",
      " ..., \n",
      " [ -5.77222915e-01  -5.77533199e-01  -5.77293990e-01 ...,   6.20064357e-05\n",
      "    4.02672209e-05   2.28426914e-05]\n",
      " [ -3.23942641e-04  -3.16939870e-04  -3.49854837e-04 ...,  -3.22332808e-06\n",
      "    1.28874573e-05  -1.43906754e-05]\n",
      " [ -4.28283266e-10  -1.51630586e-09  -7.58478756e-10 ...,   6.55767964e-01\n",
      "   -8.66389574e-10  -2.65053656e-10]]\n"
     ]
    }
   ],
   "source": [
    "#Print the fitted components\n",
    "print(pca.components_)"
   ]
  },
  {
   "cell_type": "code",
   "execution_count": 33,
   "metadata": {
    "scrolled": true
   },
   "outputs": [
    {
     "name": "stdout",
     "output_type": "stream",
     "text": [
      "[  9.81425465e+00   5.14486281e+00   3.30698953e+00   2.88406544e+00\n",
      "   2.72067614e+00   2.33920266e+00   2.09417245e+00   1.79925173e+00\n",
      "   1.39244653e+00   1.19027759e+00   1.17970599e+00   1.08311326e+00\n",
      "   1.03459071e+00   9.82443191e-01   9.73181556e-01   9.54030893e-01\n",
      "   8.82758995e-01   8.48925977e-01   8.14360197e-01   7.99847501e-01\n",
      "   7.04016262e-01   6.82344687e-01   6.02123089e-01   5.59621391e-01\n",
      "   4.81886312e-01   4.58583620e-01   4.38778825e-01   3.62846694e-01\n",
      "   3.28587981e-01   2.70069681e-01   2.37503358e-01   2.15902730e-01\n",
      "   2.08772357e-01   2.05072513e-01   2.02565047e-01   1.82190754e-01\n",
      "   1.58676731e-01   1.57601532e-01   1.33218469e-01   1.13171307e-01\n",
      "   1.05920426e-01   1.04801723e-01   7.87509634e-02   7.10304636e-02\n",
      "   5.75125352e-02   4.89800602e-02   3.77408420e-02   2.02332584e-02\n",
      "   1.93973005e-02   1.72378608e-02   1.22575567e-02   6.42977122e-03\n",
      "   6.02764503e-03   1.64928411e-03   1.00701547e-03   8.43423291e-05\n",
      "   2.49288978e-06   1.66901360e-14]\n"
     ]
    }
   ],
   "source": [
    "#Print the eigenvalues\n",
    "print(pca.explained_variance_)"
   ]
  },
  {
   "cell_type": "markdown",
   "metadata": {},
   "source": [
    "The first three principal components are plotted below:"
   ]
  },
  {
   "cell_type": "code",
   "execution_count": 34,
   "metadata": {},
   "outputs": [
    {
     "data": {
      "image/png": "[encoded data removed]",
      "text/plain": [
       "<matplotlib.figure.Figure at 0x4d19c550>"
      ]
     },
     "metadata": {},
     "output_type": "display_data"
    }
   ],
   "source": [
    "# plot the first three PCA dimensions\n",
    "fig = plt.figure(1, figsize=(8, 6))\n",
    "ax = Axes3D(fig, elev=-150, azim=110)\n",
    "X_reduced = PCA(n_components=3).fit_transform(X,y)\n",
    "ax.scatter(X_reduced[:, 0], X_reduced[:, 1], X_reduced[:, 2], c=y,\n",
    "           cmap=plt.cm.Set1, edgecolor='k', s=40)\n",
    "ax.set_title(\"First three PCA directions\")\n",
    "ax.set_xlabel(\"1st eigenvector\")\n",
    "ax.w_xaxis.set_ticklabels([])\n",
    "ax.set_ylabel(\"2nd eigenvector\")\n",
    "ax.w_yaxis.set_ticklabels([])\n",
    "ax.set_zlabel(\"3rd eigenvector\")\n",
    "ax.w_zaxis.set_ticklabels([])\n",
    "\n",
    "plt.show()"
   ]
  },
  {
   "cell_type": "markdown",
   "metadata": {},
   "source": [
    "In choosing the number of principal components, we follow two the conventional methods:\n",
    "\n",
    "1. select components that explain variances larger than 1\n",
    "\n",
    "2. draw scree plot, and decide the number of components according to the elbow in the plot"
   ]
  },
  {
   "cell_type": "code",
   "execution_count": 35,
   "metadata": {
    "scrolled": false
   },
   "outputs": [
    {
     "data": {
      "image/png": "[encoded data removed]",
      "text/plain": [
       "<matplotlib.figure.Figure at 0x4d32c9b0>"
      ]
     },
     "metadata": {},
     "output_type": "display_data"
    }
   ],
   "source": [
    "#Draw a scree plot\n",
    "#Reference: https://stats.stackexchange.com/questions/12819/how-to-draw-a-scree-plot-in-python\n",
    "fig = plt.figure(figsize=(7,7))\n",
    "var = pca.explained_variance_\n",
    "num = [i+1 for i in range(len(var))]\n",
    "\n",
    "plt.plot(num, var, 'ro-', linewidth=2)\n",
    "plt.title('Scree Plot')\n",
    "plt.xlabel('Principal Component')\n",
    "plt.ylabel('Eigenvalue')\n",
    "\n",
    "plt.show()"
   ]
  },
  {
   "cell_type": "markdown",
   "metadata": {},
   "source": [
    "The first method indicates that the number of principal components should be 13, and in the scree plot, the elbow appears at about 10, so the two methods give similar answers. To guarantee that we obtain the most important characteristics, the number of principal components is decided as 10."
   ]
  },
  {
   "cell_type": "code",
   "execution_count": 88,
   "metadata": {
    "collapsed": true
   },
   "outputs": [],
   "source": [
    "#Match the labels of components\n",
    "pc = pca.components_[:10]\n",
    "pc = pd.DataFrame(pc)\n",
    "pc.columns = data.drop(['loan_status'],axis = 1).columns.values"
   ]
  },
  {
   "cell_type": "code",
   "execution_count": 37,
   "metadata": {
    "scrolled": false
   },
   "outputs": [
    {
     "data": {
      "text/html": [
       "<div>\n",
       "<style scoped>\n",
       "    .dataframe tbody tr th:only-of-type {\n",
       "        vertical-align: middle;\n",
       "    }\n",
       "\n",
       "    .dataframe tbody tr th {\n",
       "        vertical-align: top;\n",
       "    }\n",
       "\n",
       "    .dataframe thead th {\n",
       "        text-align: right;\n",
       "    }\n",
       "</style>\n",
       "<table border=\"1\" class=\"dataframe\">\n",
       "  <thead>\n",
       "    <tr style=\"text-align: right;\">\n",
       "      <th></th>\n",
       "      <th>loan_amnt</th>\n",
       "      <th>term</th>\n",
       "      <th>int_rate</th>\n",
       "      <th>installment</th>\n",
       "      <th>annual_inc</th>\n",
       "      <th>verification_status</th>\n",
       "      <th>addr_state</th>\n",
       "      <th>delinq_2yrs</th>\n",
       "      <th>open_acc</th>\n",
       "      <th>revol_bal</th>\n",
       "      <th>...</th>\n",
       "      <th>tax_liens</th>\n",
       "      <th>tot_hi_cred_lim</th>\n",
       "      <th>total_bal_ex_mort</th>\n",
       "      <th>total_bc_limit</th>\n",
       "      <th>total_il_high_credit_limit</th>\n",
       "      <th>finantial</th>\n",
       "      <th>property</th>\n",
       "      <th>MORTGAGE</th>\n",
       "      <th>OWN</th>\n",
       "      <th>RENT</th>\n",
       "    </tr>\n",
       "  </thead>\n",
       "  <tbody>\n",
       "    <tr>\n",
       "      <th>0</th>\n",
       "      <td>0.041405</td>\n",
       "      <td>-0.000216</td>\n",
       "      <td>-0.041191</td>\n",
       "      <td>0.006085</td>\n",
       "      <td>0.139767</td>\n",
       "      <td>-0.000628</td>\n",
       "      <td>0.109477</td>\n",
       "      <td>-0.000484</td>\n",
       "      <td>0.056344</td>\n",
       "      <td>0.002515</td>\n",
       "      <td>...</td>\n",
       "      <td>0.230757</td>\n",
       "      <td>0.166777</td>\n",
       "      <td>0.206532</td>\n",
       "      <td>0.120208</td>\n",
       "      <td>0.146409</td>\n",
       "      <td>0.116226</td>\n",
       "      <td>0.009509</td>\n",
       "      <td>0.127716</td>\n",
       "      <td>0.217489</td>\n",
       "      <td>-0.004715</td>\n",
       "    </tr>\n",
       "    <tr>\n",
       "      <th>1</th>\n",
       "      <td>0.057560</td>\n",
       "      <td>-0.006003</td>\n",
       "      <td>-0.051549</td>\n",
       "      <td>0.005631</td>\n",
       "      <td>-0.181659</td>\n",
       "      <td>0.002839</td>\n",
       "      <td>0.151896</td>\n",
       "      <td>-0.004053</td>\n",
       "      <td>0.277925</td>\n",
       "      <td>-0.002093</td>\n",
       "      <td>...</td>\n",
       "      <td>-0.075771</td>\n",
       "      <td>0.136842</td>\n",
       "      <td>0.056887</td>\n",
       "      <td>0.110735</td>\n",
       "      <td>0.243994</td>\n",
       "      <td>0.192404</td>\n",
       "      <td>0.030687</td>\n",
       "      <td>0.216505</td>\n",
       "      <td>0.077910</td>\n",
       "      <td>0.004021</td>\n",
       "    </tr>\n",
       "    <tr>\n",
       "      <th>2</th>\n",
       "      <td>0.062560</td>\n",
       "      <td>-0.005172</td>\n",
       "      <td>-0.057414</td>\n",
       "      <td>0.031058</td>\n",
       "      <td>0.135675</td>\n",
       "      <td>-0.007197</td>\n",
       "      <td>0.075076</td>\n",
       "      <td>0.003115</td>\n",
       "      <td>0.220560</td>\n",
       "      <td>0.044833</td>\n",
       "      <td>...</td>\n",
       "      <td>0.201854</td>\n",
       "      <td>0.233689</td>\n",
       "      <td>-0.091853</td>\n",
       "      <td>0.275731</td>\n",
       "      <td>-0.133756</td>\n",
       "      <td>-0.242710</td>\n",
       "      <td>-0.010548</td>\n",
       "      <td>-0.080577</td>\n",
       "      <td>-0.029165</td>\n",
       "      <td>-0.006696</td>\n",
       "    </tr>\n",
       "    <tr>\n",
       "      <th>3</th>\n",
       "      <td>0.028640</td>\n",
       "      <td>0.006223</td>\n",
       "      <td>-0.034885</td>\n",
       "      <td>-0.012473</td>\n",
       "      <td>-0.188013</td>\n",
       "      <td>0.008195</td>\n",
       "      <td>0.027767</td>\n",
       "      <td>0.005423</td>\n",
       "      <td>0.113009</td>\n",
       "      <td>-0.043948</td>\n",
       "      <td>...</td>\n",
       "      <td>-0.092316</td>\n",
       "      <td>-0.078944</td>\n",
       "      <td>0.221780</td>\n",
       "      <td>-0.166749</td>\n",
       "      <td>-0.010877</td>\n",
       "      <td>-0.336811</td>\n",
       "      <td>-0.079182</td>\n",
       "      <td>0.093917</td>\n",
       "      <td>0.223500</td>\n",
       "      <td>-0.049850</td>\n",
       "    </tr>\n",
       "    <tr>\n",
       "      <th>4</th>\n",
       "      <td>0.021907</td>\n",
       "      <td>0.000536</td>\n",
       "      <td>-0.022515</td>\n",
       "      <td>0.024157</td>\n",
       "      <td>-0.154124</td>\n",
       "      <td>-0.005982</td>\n",
       "      <td>0.029606</td>\n",
       "      <td>0.000639</td>\n",
       "      <td>0.090195</td>\n",
       "      <td>0.020816</td>\n",
       "      <td>...</td>\n",
       "      <td>-0.007374</td>\n",
       "      <td>0.068352</td>\n",
       "      <td>0.068107</td>\n",
       "      <td>0.023015</td>\n",
       "      <td>-0.360267</td>\n",
       "      <td>0.027767</td>\n",
       "      <td>0.000028</td>\n",
       "      <td>-0.402715</td>\n",
       "      <td>0.098704</td>\n",
       "      <td>-0.026714</td>\n",
       "    </tr>\n",
       "  </tbody>\n",
       "</table>\n",
       "<p>5 rows × 58 columns</p>\n",
       "</div>"
      ],
      "text/plain": [
       "   loan_amnt      term  int_rate  installment  annual_inc  \\\n",
       "0   0.041405 -0.000216 -0.041191     0.006085    0.139767   \n",
       "1   0.057560 -0.006003 -0.051549     0.005631   -0.181659   \n",
       "2   0.062560 -0.005172 -0.057414     0.031058    0.135675   \n",
       "3   0.028640  0.006223 -0.034885    -0.012473   -0.188013   \n",
       "4   0.021907  0.000536 -0.022515     0.024157   -0.154124   \n",
       "\n",
       "   verification_status  addr_state  delinq_2yrs  open_acc  revol_bal  \\\n",
       "0            -0.000628    0.109477    -0.000484  0.056344   0.002515   \n",
       "1             0.002839    0.151896    -0.004053  0.277925  -0.002093   \n",
       "2            -0.007197    0.075076     0.003115  0.220560   0.044833   \n",
       "3             0.008195    0.027767     0.005423  0.113009  -0.043948   \n",
       "4            -0.005982    0.029606     0.000639  0.090195   0.020816   \n",
       "\n",
       "     ...     tax_liens  tot_hi_cred_lim  total_bal_ex_mort  total_bc_limit  \\\n",
       "0    ...      0.230757         0.166777           0.206532        0.120208   \n",
       "1    ...     -0.075771         0.136842           0.056887        0.110735   \n",
       "2    ...      0.201854         0.233689          -0.091853        0.275731   \n",
       "3    ...     -0.092316        -0.078944           0.221780       -0.166749   \n",
       "4    ...     -0.007374         0.068352           0.068107        0.023015   \n",
       "\n",
       "   total_il_high_credit_limit  finantial  property  MORTGAGE       OWN  \\\n",
       "0                    0.146409   0.116226  0.009509  0.127716  0.217489   \n",
       "1                    0.243994   0.192404  0.030687  0.216505  0.077910   \n",
       "2                   -0.133756  -0.242710 -0.010548 -0.080577 -0.029165   \n",
       "3                   -0.010877  -0.336811 -0.079182  0.093917  0.223500   \n",
       "4                   -0.360267   0.027767  0.000028 -0.402715  0.098704   \n",
       "\n",
       "       RENT  \n",
       "0 -0.004715  \n",
       "1  0.004021  \n",
       "2 -0.006696  \n",
       "3 -0.049850  \n",
       "4 -0.026714  \n",
       "\n",
       "[5 rows x 58 columns]"
      ]
     },
     "execution_count": 37,
     "metadata": {},
     "output_type": "execute_result"
    }
   ],
   "source": [
    "pc.head()"
   ]
  },
  {
   "cell_type": "markdown",
   "metadata": {},
   "source": [
    "To investigate which predictor variables contribute most two the first 10 principal components, we list the ones that contribute over 20% below:"
   ]
  },
  {
   "cell_type": "code",
   "execution_count": 38,
   "metadata": {
    "scrolled": false
   },
   "outputs": [
    {
     "name": "stdout",
     "output_type": "stream",
     "text": [
      "component 1:\n",
      " tot_cur_bal              0.218835\n",
      "total_rev_hi_lim         0.227607\n",
      "acc_open_past_24mths     0.237204\n",
      "avg_cur_bal              0.226537\n",
      "delinq_amnt              0.249585\n",
      "mo_sin_old_rev_tl_op     0.234769\n",
      "mo_sin_rcnt_rev_tl_op    0.225965\n",
      "mo_sin_rcnt_tl           0.255695\n",
      "num_actv_bc_tl           0.256528\n",
      "tax_liens                0.230757\n",
      "total_bal_ex_mort        0.206532\n",
      "OWN                      0.217489\n",
      "Name: 0, dtype: float64\n",
      "\n",
      "component 2:\n",
      " open_acc                      0.277925\n",
      "total_rec_prncp               0.249934\n",
      "recoveries                    0.268756\n",
      "delinq_amnt                  -0.212577\n",
      "pct_tl_nvr_dlq                0.230541\n",
      "pub_rec_bankruptcies          0.222340\n",
      "total_il_high_credit_limit    0.243994\n",
      "MORTGAGE                      0.216505\n",
      "Name: 1, dtype: float64\n",
      "\n",
      "component 3:\n",
      " open_acc                    0.220560\n",
      "recoveries                 -0.208084\n",
      "chargeoff_within_12_mths    0.287826\n",
      "num_actv_rev_tl            -0.229474\n",
      "num_bc_sats                -0.229467\n",
      "pct_tl_nvr_dlq              0.255367\n",
      "pub_rec_bankruptcies        0.236630\n",
      "tax_liens                   0.201854\n",
      "tot_hi_cred_lim             0.233689\n",
      "total_bc_limit              0.275731\n",
      "finantial                  -0.242710\n",
      "Name: 2, dtype: float64\n",
      "\n",
      "component 4:\n",
      " total_rec_int              -0.340526\n",
      "chargeoff_within_12_mths   -0.219796\n",
      "num_actv_rev_tl            -0.270008\n",
      "num_bc_sats                -0.269998\n",
      "total_bal_ex_mort           0.221780\n",
      "finantial                  -0.336811\n",
      "OWN                         0.223500\n",
      "Name: 3, dtype: float64\n",
      "\n",
      "component 5:\n",
      " total_rec_late_fee           -0.469094\n",
      "num_actv_rev_tl               0.332319\n",
      "num_bc_sats                   0.332316\n",
      "total_il_high_credit_limit   -0.360267\n",
      "MORTGAGE                     -0.402715\n",
      "Name: 4, dtype: float64\n",
      "\n",
      "component 6:\n",
      " initial_list_status    0.440555\n",
      "tot_coll_amt           0.351863\n",
      "mort_acc               0.417479\n",
      "num_bc_tl             -0.401168\n",
      "Name: 5, dtype: float64\n",
      "\n",
      "component 7:\n",
      " total_acc        0.643014\n",
      "num_rev_accts    0.642895\n",
      "Name: 6, dtype: float64\n",
      "\n",
      "component 8:\n",
      " open_acc                    0.258205\n",
      "last_pymnt_amnt            -0.314582\n",
      "application_type           -0.328202\n",
      "acc_now_delinq              0.261635\n",
      "chargeoff_within_12_mths   -0.344755\n",
      "num_accts_ever_120_pd       0.269845\n",
      "tot_hi_cred_lim            -0.286863\n",
      "total_bc_limit             -0.320511\n",
      "Name: 7, dtype: float64\n",
      "\n",
      "component 9:\n",
      " collection_recovery_fee    0.363867\n",
      "acc_now_delinq             0.290107\n",
      "avg_cur_bal                0.201064\n",
      "mo_sin_old_rev_tl_op       0.278817\n",
      "num_op_rev_tl              0.286987\n",
      "num_rev_tl_bal_gt_0       -0.280537\n",
      "tax_liens                  0.308717\n",
      "Name: 8, dtype: float64\n",
      "\n",
      "component 10:\n",
      " installment     0.646493\n",
      "out_prncp       0.624868\n",
      "tot_coll_amt   -0.253341\n",
      "num_bc_tl       0.211187\n",
      "Name: 9, dtype: float64\n",
      "\n"
     ]
    }
   ],
   "source": [
    "for i in range(len(pc)):\n",
    "    pc1 = pc.iloc[i]\n",
    "    print('component {}:\\n {}\\n'.format(i+1,pc1[abs(pc1)>=0.2]))"
   ]
  },
  {
   "cell_type": "markdown",
   "metadata": {},
   "source": [
    "Each of the principal components have multiple predictor variables, and only a few of them have one or two dominant variables, while most of them consist of equally important variables.\n",
    "\n",
    "To further make it clearer that which predictor variables act a major role in estabishing the principal components, we apply the varimax rotation, which push each contribution of predictor variables to either 1/-1 or 0 without damaging the structure of the principal components."
   ]
  },
  {
   "cell_type": "markdown",
   "metadata": {},
   "source": [
    "#### Varimax Rotation:\n",
    "\n",
    "https://en.wikipedia.org/wiki/Talk:Varimax_rotation"
   ]
  },
  {
   "cell_type": "code",
   "execution_count": 39,
   "metadata": {
    "collapsed": true
   },
   "outputs": [],
   "source": [
    "from scipy import eye, asarray, dot, sum\n",
    "from scipy.linalg import svd"
   ]
  },
  {
   "cell_type": "code",
   "execution_count": 40,
   "metadata": {
    "collapsed": true
   },
   "outputs": [],
   "source": [
    "def varimax(Phi, gamma = 1.0, q = 20, tol = 1e-6):\n",
    "    #reference: https://en.wikipedia.org/wiki/Talk:Varimax_rotation\n",
    "    p,k = Phi.shape\n",
    "    R = eye(k)\n",
    "    d=0\n",
    "    for i in range(q):\n",
    "        d_old = d\n",
    "        Lambda = dot(Phi, R)\n",
    "        u,s,vh = svd(dot(Phi.T,asarray(Lambda)**3 - (gamma/p) * dot(Lambda, np.diag(np.diag(dot(Lambda.T,Lambda))))))\n",
    "        R = dot(u,vh)\n",
    "        d = sum(s)\n",
    "        if d_old!=0 and d/d_old < 1 + tol: break\n",
    "    return dot(Phi, R)"
   ]
  },
  {
   "cell_type": "code",
   "execution_count": 41,
   "metadata": {
    "collapsed": true
   },
   "outputs": [],
   "source": [
    "pc_r = varimax(pca.components_)"
   ]
  },
  {
   "cell_type": "code",
   "execution_count": 42,
   "metadata": {
    "collapsed": true
   },
   "outputs": [],
   "source": [
    "pc_r = pd.DataFrame(pc_r)\n",
    "pc_r.columns = data.drop(['loan_status'],axis = 1).columns.values"
   ]
  },
  {
   "cell_type": "code",
   "execution_count": 43,
   "metadata": {},
   "outputs": [
    {
     "name": "stdout",
     "output_type": "stream",
     "text": [
      "component 1:\n",
      " num_rev_tl_bal_gt_0    1.0\n",
      "Name: 0, dtype: float64\n",
      "\n",
      "component 2:\n",
      " pub_rec_bankruptcies    1.0\n",
      "Name: 1, dtype: float64\n",
      "\n",
      "component 3:\n",
      " num_actv_rev_tl   -1.0\n",
      "Name: 2, dtype: float64\n",
      "\n",
      "component 4:\n",
      " total_rec_int   -1.0\n",
      "Name: 3, dtype: float64\n",
      "\n",
      "component 5:\n",
      " MORTGAGE   -1.0\n",
      "Name: 4, dtype: float64\n",
      "\n",
      "component 6:\n",
      " mort_acc    1.0\n",
      "Name: 5, dtype: float64\n",
      "\n",
      "component 7:\n",
      " num_rev_accts    1.0\n",
      "Name: 6, dtype: float64\n",
      "\n",
      "component 8:\n",
      " total_bc_limit   -1.0\n",
      "Name: 7, dtype: float64\n",
      "\n",
      "component 9:\n",
      " mo_sin_old_rev_tl_op    1.0\n",
      "Name: 8, dtype: float64\n",
      "\n",
      "component 10:\n",
      " out_prncp    1.0\n",
      "Name: 9, dtype: float64\n",
      "\n"
     ]
    }
   ],
   "source": [
    "for i in range(10):\n",
    "    pc1_r = pc_r.iloc[i]\n",
    "    print('component {}:\\n {}\\n'.format(i+1,pc1_r[abs(pc1_r)>=0.2]))"
   ]
  },
  {
   "cell_type": "markdown",
   "metadata": {},
   "source": [
    "**num_rev_tl_bal_gt_0, pub_rec_bankruptcies, num_actv_rev_tl, total_rec_int, MORTGAGE, mort_acc , num_rev_accts, total_bc_limit, mo_sin_old_rev_tl_op**, and **out_prncp** are the predictor variables that absolutely dominate the first 10 principal components."
   ]
  },
  {
   "cell_type": "markdown",
   "metadata": {},
   "source": [
    "account status|home ownership|loan payment\n",
    "------------ | ------------- | ------------\n",
    "num_rev_tl_bal_gt_0|MORTGAGE|total_rec_int|\n",
    "pub_rec_bankruptcies||out_prncp|\n",
    "mort_acc||\n",
    "num_rev_accts||\n",
    "total_bc_limit||\n",
    "num_actv_rev_tl||\n",
    "mo_sin_old_rev_tl_op||"
   ]
  },
  {
   "cell_type": "markdown",
   "metadata": {},
   "source": [
    "By classifying them into 3 categories, we can see that the account status(mostly revolving account status) is the primary factor decides how well the borrower will pay the loan, including number of accounts, activeness of account, the credit limit, etc. And current loan paying situation as well as if the borrower mortgages his/her home also play important roles.\n",
    "\n",
    "The result is reasonable because the account status is actually a good reflection of the borrower's financial status and credit history, which play a decisive role on the the borrower's payment ability and habit. Also, mortgage home is a sign that the borrower is under economic difficulties, and the current payment status of the loan is of course another obvious indicator that if the loan will be fully paid.\n",
    "\n",
    "Therefore, we can conclude from the PCA section that, account status(in which revolving account is the most important), if the borrower lives in a mortgage home and how the loan is currently paid is the most decisive 3 elements that affect whether the club can successfully get back the loan in full amount."
   ]
  },
  {
   "cell_type": "markdown",
   "metadata": {},
   "source": [
    "### KNN Classification\n",
    "http://scikit-learn.org/stable/modules/generated/sklearn.neighbors.KNeighborsClassifier.html"
   ]
  },
  {
   "cell_type": "markdown",
   "metadata": {},
   "source": [
    "K-nearest-neighbor Classifier is also applied to predict the loan status. The tuning parameter **k** (number of neighbors) is determined by computing the misclassification rate of on the testing set by fitting the classifier on the training set."
   ]
  },
  {
   "cell_type": "code",
   "execution_count": 47,
   "metadata": {
    "collapsed": true
   },
   "outputs": [],
   "source": [
    "from sklearn.neighbors import KNeighborsClassifier\n",
    "from sklearn.metrics import confusion_matrix\n",
    "from sklearn import metrics as skmetrics\n",
    "import itertools"
   ]
  },
  {
   "cell_type": "code",
   "execution_count": 44,
   "metadata": {
    "collapsed": true
   },
   "outputs": [],
   "source": [
    "def plot_confusion_matrix(cm, classes,\n",
    "                          normalize=False,\n",
    "                          title='Confusion matrix',\n",
    "                          cmap=plt.cm.Blues):\n",
    "    \"\"\"\n",
    "    This function prints and plots the confusion matrix.\n",
    "    Normalization can be applied by setting `normalize=True`.\n",
    "    Code from http://scikit-learn.org/stable/auto_examples/model_selection/plot_confusion_matrix.html\n",
    "    \"\"\"\n",
    "    plt.imshow(cm, interpolation='nearest', cmap=cmap)\n",
    "    plt.title(title)\n",
    "    plt.colorbar()\n",
    "    tick_marks = np.arange(len(classes))\n",
    "    plt.xticks(tick_marks, classes, rotation=45)\n",
    "    plt.yticks(tick_marks, classes)\n",
    "\n",
    "    if normalize:\n",
    "        cm = cm.astype('float') / cm.sum(axis=1)[:, np.newaxis]\n",
    "        print(\"Normalized confusion matrix\")\n",
    "    else:\n",
    "        print('Confusion matrix, without normalization')\n",
    "\n",
    "    print(cm)\n",
    "\n",
    "    thresh = cm.max() / 2.\n",
    "    for i, j in itertools.product(range(cm.shape[0]), range(cm.shape[1])):\n",
    "        plt.text(j, i, cm[i, j],\n",
    "                 horizontalalignment=\"center\",\n",
    "                 color=\"white\" if cm[i, j] > thresh else \"black\")\n",
    "\n",
    "    plt.ylabel('True label')\n",
    "    plt.xlabel('Predicted label')"
   ]
  },
  {
   "cell_type": "code",
   "execution_count": 45,
   "metadata": {
    "collapsed": true
   },
   "outputs": [],
   "source": [
    "#Function that calculate the test error\n",
    "def test_error(X_tr,y_tr,X_te,y_te,regmod):\n",
    "    \"\"\"\n",
    "    Return the test error for square error loss\n",
    "    \n",
    "    Input: training and testing design matrix, X_tr ,X_te\n",
    "            training and testing response vector, y_tr, y_te\n",
    "            a regression model, regmod\n",
    "            \n",
    "    Output: scalar empirical risk\n",
    "    \"\"\"\n",
    "    regmod.fit(X_tr,y_tr)\n",
    "    y_hat = regmod.predict(X_te)\n",
    "    return np.mean((y_hat - y_te)**2)"
   ]
  },
  {
   "cell_type": "code",
   "execution_count": 65,
   "metadata": {
    "collapsed": true
   },
   "outputs": [],
   "source": [
    "#Generate possible lambda's: integer points from 3 to 12\n",
    "alphas = [i+1 for i in range(2,12)]\n",
    "\n",
    "#Ridge regression\n",
    "TestEr = []\n",
    "\n",
    "neigh = KNeighborsClassifier()\n",
    "\n",
    "for a in alphas:\n",
    "    neigh.set_params(n_neighbors=a)\n",
    "    TestEr.append(test_error(X_tr,y_tr,X_te,y_te,neigh))"
   ]
  },
  {
   "cell_type": "code",
   "execution_count": 57,
   "metadata": {
    "collapsed": true
   },
   "outputs": [],
   "source": [
    "alphas = [i+1 for i in range(2,12)]\n",
    "\n",
    "te3 =0.05119611056886614\n",
    "te4=0.053295519419531867\n",
    "te5=0.04925323658864478\n",
    "te6=0.04921640485442257\n",
    "te7=0.04949264286108911\n",
    "te8=0.048986206515533787\n",
    "te9=0.05070809009042191\n",
    "te10=0.049621553930866834\n",
    "te11=0.050827793226644075\n",
    "te12=0.05011878234286661\n",
    "\n",
    "TestEr =[te3,te4,te5,te6,te7,te8,te9,te10,te11,te12]"
   ]
  },
  {
   "cell_type": "code",
   "execution_count": 63,
   "metadata": {},
   "outputs": [
    {
     "data": {
      "image/png": "[encoded data removed]",
      "text/plain": [
       "<matplotlib.figure.Figure at 0x5dfd46d8>"
      ]
     },
     "metadata": {},
     "output_type": "display_data"
    }
   ],
   "source": [
    "#Draw the Test Error for KNN classifier\n",
    "\n",
    "fig = plt.figure(figsize = (7,7))\n",
    "plt.plot(alphas,TestEr)\n",
    "\n",
    "plt.xlabel('k')\n",
    "plt.ylabel('Test Error')\n",
    "plt.title('Test Error for KNN Classifier')\n",
    "plt.show()"
   ]
  },
  {
   "cell_type": "markdown",
   "metadata": {},
   "source": [
    "According to the plot, when $k=8$, the test error(same as misclassification rate) is the lowest, which is about 0.049. Therefore, the final KNN classifier is determined with number of neighbors = 8, and estimation and prediction are  practiced as follows."
   ]
  },
  {
   "cell_type": "code",
   "execution_count": 59,
   "metadata": {},
   "outputs": [
    {
     "data": {
      "text/plain": [
       "KNeighborsClassifier(algorithm='auto', leaf_size=30, metric='minkowski',\n",
       "           metric_params=None, n_jobs=1, n_neighbors=8, p=2,\n",
       "           weights='uniform')"
      ]
     },
     "execution_count": 59,
     "metadata": {},
     "output_type": "execute_result"
    }
   ],
   "source": [
    "#Fit the KNN Classifier\n",
    "neigh = KNeighborsClassifier(n_neighbors = 8)\n",
    "neigh.fit(X_tr, y_tr) "
   ]
  },
  {
   "cell_type": "code",
   "execution_count": 60,
   "metadata": {
    "collapsed": true
   },
   "outputs": [],
   "source": [
    "#Prediction on the test set\n",
    "pred_knn = neigh.predict(X_te)"
   ]
  },
  {
   "cell_type": "code",
   "execution_count": 61,
   "metadata": {},
   "outputs": [
    {
     "name": "stdout",
     "output_type": "stream",
     "text": [
      "Confusion matrix, without normalization\n",
      "[[ 9549  4716]\n",
      " [  604 93733]]\n"
     ]
    },
    {
     "data": {
      "image/png": "[encoded data removed]",
      "text/plain": [
       "<matplotlib.figure.Figure at 0x5cf06fd0>"
      ]
     },
     "metadata": {},
     "output_type": "display_data"
    }
   ],
   "source": [
    "#Draw the confusion matrix\n",
    "fig = plt.figure(figsize = (10,10))\n",
    "with plt.style.context(('seaborn-white')):\n",
    "    plot_confusion_matrix(confusion_matrix(y_te,pred_knn),[0,1])\n",
    "plt.show()"
   ]
  },
  {
   "cell_type": "code",
   "execution_count": 62,
   "metadata": {},
   "outputs": [
    {
     "data": {
      "text/plain": [
       "0.95101379348446624"
      ]
     },
     "execution_count": 62,
     "metadata": {},
     "output_type": "execute_result"
    }
   ],
   "source": [
    "#Accruacy rate\n",
    "sum(pred_knn == y_te)/len(y_te)"
   ]
  },
  {
   "cell_type": "markdown",
   "metadata": {},
   "source": [
    "From the confusion matrix and accuracy rate produced by prediction of KNN classifier, over 95% cases are predicted correct, and the most frequent error is that the loan of bad status is misclassified as good status, which is nearly 8 times the opposite situation."
   ]
  },
  {
   "cell_type": "markdown",
   "metadata": {},
   "source": [
    "### Random Forest Classifier\n",
    "\n",
    "http://scikit-learn.org/stable/modules/generated/sklearn.ensemble.RandomForestClassifier.html\n",
    "http://scikit-learn.org/stable/auto_examples/ensemble/plot_forest_importances.html"
   ]
  },
  {
   "cell_type": "markdown",
   "metadata": {},
   "source": [
    "Random Forest Classifier is another popular and relatively accurate classification method, which prevent overfitting by averaging a large number of decision trees. We implement the random forest classifier with the number of trees prespecified as 1000, and compute the misclassification rate of prediction on the testing set."
   ]
  },
  {
   "cell_type": "code",
   "execution_count": 66,
   "metadata": {},
   "outputs": [
    {
     "data": {
      "text/plain": [
       "RandomForestClassifier(bootstrap=True, class_weight=None, criterion='gini',\n",
       "            max_depth=None, max_features='auto', max_leaf_nodes=None,\n",
       "            min_impurity_decrease=0.0, min_impurity_split=None,\n",
       "            min_samples_leaf=1, min_samples_split=2,\n",
       "            min_weight_fraction_leaf=0.0, n_estimators=1000, n_jobs=1,\n",
       "            oob_score=False, random_state=0, verbose=0, warm_start=False)"
      ]
     },
     "execution_count": 66,
     "metadata": {},
     "output_type": "execute_result"
    }
   ],
   "source": [
    "from sklearn.ensemble import RandomForestClassifier\n",
    "\n",
    "#Fit the random forest classifier\n",
    "rf = RandomForestClassifier(n_estimators = 1000, random_state = 0)\n",
    "rf.fit(X_tr, y_tr)"
   ]
  },
  {
   "cell_type": "code",
   "execution_count": 67,
   "metadata": {},
   "outputs": [
    {
     "data": {
      "text/plain": [
       "array([ 0.00321297,  0.02193768,  0.00175709,  0.02811326,  0.14455459,\n",
       "        0.06636936,  0.01405233,  0.01344141,  0.0127894 ,  0.0100381 ,\n",
       "        0.19262436,  0.00163503,  0.192955  ,  0.00560816,  0.02313641,\n",
       "        0.05259838,  0.02912073,  0.18605574])"
      ]
     },
     "execution_count": 67,
     "metadata": {},
     "output_type": "execute_result"
    }
   ],
   "source": [
    "#Print the feature importances\n",
    "rf.feature_importances_"
   ]
  },
  {
   "cell_type": "code",
   "execution_count": 77,
   "metadata": {},
   "outputs": [
    {
     "name": "stdout",
     "output_type": "stream",
     "text": [
      "Feature ranking:\n",
      "1. feature 12 (0.192955)\n",
      "2. feature 10 (0.192624)\n",
      "3. feature 17 (0.186056)\n",
      "4. feature 4 (0.144555)\n",
      "5. feature 5 (0.066369)\n",
      "6. feature 15 (0.052598)\n",
      "7. feature 16 (0.029121)\n",
      "8. feature 3 (0.028113)\n",
      "9. feature 14 (0.023136)\n",
      "10. feature 1 (0.021938)\n",
      "11. feature 6 (0.014052)\n",
      "12. feature 7 (0.013441)\n",
      "13. feature 8 (0.012789)\n",
      "14. feature 9 (0.010038)\n",
      "15. feature 13 (0.005608)\n",
      "16. feature 0 (0.003213)\n",
      "17. feature 2 (0.001757)\n",
      "18. feature 11 (0.001635)\n"
     ]
    },
    {
     "data": {
      "image/png": "[encoded data removed]",
      "text/plain": [
       "<matplotlib.figure.Figure at 0xa09c5f28>"
      ]
     },
     "metadata": {},
     "output_type": "display_data"
    }
   ],
   "source": [
    "#Reference: http://scikit-learn.org/stable/auto_examples/ensemble/plot_forest_importances.html\n",
    "\n",
    "importances = rf.feature_importances_\n",
    "std = np.std([tree.feature_importances_ for tree in rf.estimators_],\n",
    "             axis=0)\n",
    "indices = np.argsort(importances)[::-1]\n",
    "\n",
    "# Print the feature ranking\n",
    "print(\"Feature ranking:\")\n",
    "\n",
    "for f in range(X_tr.shape[1]):\n",
    "    print(\"%d. feature %d (%f)\" % (f + 1, indices[f], importances[indices[f]]))\n",
    "\n",
    "# Plot the feature importances of the forest\n",
    "plt.figure(figsize = (7,7))\n",
    "plt.title(\"Feature importances\")\n",
    "plt.bar(range(X_tr.shape[1]), importances[indices],\n",
    "       color=\"r\", yerr=std[indices], align=\"center\")\n",
    "plt.xticks(range(X_tr.shape[1]), indices)\n",
    "plt.xlim([-1, X_tr.shape[1]])\n",
    "plt.show()"
   ]
  },
  {
   "cell_type": "code",
   "execution_count": 83,
   "metadata": {},
   "outputs": [
    {
     "data": {
      "text/plain": [
       "Index(['recoveries', 'out_prncp', 'total_rec_prncp', 'last_pymnt_amnt'], dtype='object')"
      ]
     },
     "execution_count": 83,
     "metadata": {},
     "output_type": "execute_result"
    }
   ],
   "source": [
    "#Check the labels of feature 12, 10, 17 and 4\n",
    "train[train.columns.difference(['loan_status'])].columns[[12,10,17,4]]"
   ]
  },
  {
   "cell_type": "markdown",
   "metadata": {},
   "source": [
    "The feature importance plot shows that among the 18 features, actually only 4(with a feature importance over 0.1) of them make the major contribution to the classification, and they also have the largest inter-trees variability. \n",
    "\n",
    "By looking them up in the original dataset, we can recognize that they are **recoveries, out_prncp, total_rec_prncp** and **last_pymnt_amnt**. We can conclude here that the random forest classifier attach a great importance to the payment of loan, especially the payment situation of principal."
   ]
  },
  {
   "cell_type": "code",
   "execution_count": 68,
   "metadata": {
    "collapsed": true
   },
   "outputs": [],
   "source": [
    "#Predict on the testing set\n",
    "pred_rf = rf.predict(X_te)"
   ]
  },
  {
   "cell_type": "code",
   "execution_count": 69,
   "metadata": {
    "collapsed": true
   },
   "outputs": [],
   "source": [
    "#ROC curve\n",
    "from sklearn.metrics import roc_curve, auc\n",
    "\n",
    "# Compute ROC curve and ROC area for each class\n",
    "fpr = dict()\n",
    "tpr = dict()\n",
    "roc_auc = dict()\n",
    "fpr, tpr, _ = roc_curve(y_te, pred_rf)\n",
    "roc_auc = auc(fpr, tpr)"
   ]
  },
  {
   "cell_type": "code",
   "execution_count": 84,
   "metadata": {},
   "outputs": [
    {
     "data": {
      "image/png": "[encoded data removed]",
      "text/plain": [
       "<matplotlib.figure.Figure at 0xa09c5b38>"
      ]
     },
     "metadata": {},
     "output_type": "display_data"
    }
   ],
   "source": [
    "#Plot ROC curve\n",
    "plt.figure(figsize = (7,7))\n",
    "lw = 2\n",
    "plt.plot(fpr, tpr, color='darkorange',\n",
    "         lw=lw, label='ROC curve (area = %0.2f)' % roc_auc)\n",
    "plt.plot([0, 1], [0, 1], color='navy', lw=lw, linestyle='--')\n",
    "plt.xlim([0.0, 1.0])\n",
    "plt.ylim([0.0, 1.05])\n",
    "plt.xlabel('False Positive Rate')\n",
    "plt.ylabel('True Positive Rate')\n",
    "plt.title('ROC curve for random forest classifer')\n",
    "plt.legend(loc=\"lower right\")\n",
    "plt.show()"
   ]
  },
  {
   "cell_type": "code",
   "execution_count": 72,
   "metadata": {
    "collapsed": true
   },
   "outputs": [],
   "source": [
    "#PR curve\n",
    "from sklearn.metrics import precision_recall_curve\n",
    "from sklearn.metrics import average_precision_score\n",
    "\n",
    "average_precision = average_precision_score(y_te, pred_rf)\n",
    "precision, recall, _ = precision_recall_curve(y_te, pred_rf)"
   ]
  },
  {
   "cell_type": "code",
   "execution_count": 86,
   "metadata": {},
   "outputs": [
    {
     "data": {
      "image/png": "[encoded data removed]",
      "text/plain": [
       "<matplotlib.figure.Figure at 0xa0c123c8>"
      ]
     },
     "metadata": {},
     "output_type": "display_data"
    }
   ],
   "source": [
    "#Plot the Precision-Recall curve\n",
    "plt.figure(figsize = (7,7))\n",
    "plt.step(recall, precision, color='b', alpha=0.2, where='post')\n",
    "plt.fill_between(recall, precision, step='post', alpha=0.2,color='b')\n",
    "\n",
    "plt.xlabel('Recall')\n",
    "plt.ylabel('Precision')\n",
    "plt.ylim([0.0, 1.05])\n",
    "plt.xlim([0.0, 1.0])\n",
    "plt.title('PR curve for random forest classifer'.format(average_precision))\n",
    "plt.show()"
   ]
  },
  {
   "cell_type": "markdown",
   "metadata": {},
   "source": [
    "The ROC curve and PR curve are both very satisfiable.the ROC curve is very close to the upper left corner, and the PR curver is really close to 1, implying that the prediction is quite accurate."
   ]
  },
  {
   "cell_type": "code",
   "execution_count": 74,
   "metadata": {},
   "outputs": [
    {
     "name": "stdout",
     "output_type": "stream",
     "text": [
      "Confusion matrix, without normalization\n",
      "[[11394  2871]\n",
      " [  176 94161]]\n"
     ]
    },
    {
     "data": {
      "image/png": "[encoded data removed]",
      "text/plain": [
       "<matplotlib.figure.Figure at 0x605c90b8>"
      ]
     },
     "metadata": {},
     "output_type": "display_data"
    }
   ],
   "source": [
    "#Draw the confusion matrix\n",
    "fig = plt.figure(figsize = (10,10))\n",
    "with plt.style.context(('seaborn-white')):\n",
    "    plot_confusion_matrix(confusion_matrix(y_te,pred_rf),[0,1])\n",
    "plt.show()"
   ]
  },
  {
   "cell_type": "code",
   "execution_count": 75,
   "metadata": {},
   "outputs": [
    {
     "data": {
      "text/plain": [
       "0.97194342645623466"
      ]
     },
     "execution_count": 75,
     "metadata": {},
     "output_type": "execute_result"
    }
   ],
   "source": [
    "#Accruacy rate\n",
    "sum(pred_rf == y_te)/len(y_te)"
   ]
  },
  {
   "cell_type": "markdown",
   "metadata": {},
   "source": [
    "The random forest classifier also have a very high accuracy rate of over 97%, and the most frequent error is the loan of bad status is misclassified as good status as well, which is, more extremely, over 16 times the opposite situation."
   ]
  }
 ],
 "metadata": {
  "kernelspec": {
   "display_name": "Python 3",
   "language": "python",
   "name": "python3"
  },
  "language_info": {
   "codemirror_mode": {
    "name": "ipython",
    "version": 3
   },
   "file_extension": ".py",
   "mimetype": "text/x-python",
   "name": "python",
   "nbconvert_exporter": "python",
   "pygments_lexer": "ipython3",
   "version": "3.6.1"
  }
 },
 "nbformat": 4,
 "nbformat_minor": 2
}
