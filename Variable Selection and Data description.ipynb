{
 "cells": [
  {
   "cell_type": "markdown",
   "metadata": {},
   "source": [
    "# Project Introduction\n",
    "\n",
    "This project aims to built a model to predict a loan status upon information of the borrower."
   ]
  },
  {
   "cell_type": "markdown",
   "metadata": {},
   "source": [
    "# 1. Data Importing"
   ]
  },
  {
   "cell_type": "code",
   "execution_count": 1,
   "metadata": {
    "collapsed": true
   },
   "outputs": [],
   "source": [
    "import numpy as np\n",
    "import pandas as pd\n",
    "import os\n",
    "import sqlalchemy as sqla\n",
    "import sqlite3 as sql\n",
    "from sqlite3 import Error\n",
    "import re\n",
    "\n",
    "import matplotlib as mpl\n",
    "import matplotlib.pyplot as plt\n",
    "import seaborn as sns\n",
    "\n",
    "%matplotlib inline"
   ]
  },
  {
   "cell_type": "code",
   "execution_count": 2,
   "metadata": {
    "collapsed": true
   },
   "outputs": [],
   "source": [
    "file_loc = os.getcwd()"
   ]
  },
  {
   "cell_type": "code",
   "execution_count": 3,
   "metadata": {},
   "outputs": [
    {
     "data": {
      "text/plain": [
       "'C:\\\\Users\\\\Administrator\\\\1-STA208\\\\STA-208-project'"
      ]
     },
     "execution_count": 3,
     "metadata": {},
     "output_type": "execute_result"
    }
   ],
   "source": [
    "file_loc"
   ]
  },
  {
   "cell_type": "code",
   "execution_count": 4,
   "metadata": {
    "collapsed": true
   },
   "outputs": [],
   "source": [
    "db1= sql.connect(file_loc+\"\\data1.db\")\n",
    "df1=pd.read_sql(\"SELECT * FROM loan\",db1)\n",
    "db2= sql.connect(file_loc+\"\\data2.db\")\n",
    "df2=pd.read_sql(\"SELECT * FROM loan\",db2)\n",
    "db3= sql.connect(file_loc+\"\\data3.db\")\n",
    "df3=pd.read_sql(\"SELECT * FROM loan\",db3)\n",
    "db4= sql.connect(file_loc+\"\\data4.db\")\n",
    "df4=pd.read_sql(\"SELECT * FROM loan\",db4)\n",
    "db5= sql.connect(file_loc+\"\\data5.db\")\n",
    "df5=pd.read_sql(\"SELECT * FROM loan\",db5)\n",
    "db6= sql.connect(file_loc+\"\\data6.db\")\n",
    "df6=pd.read_sql(\"SELECT * FROM loan\",db6)\n",
    "db7= sql.connect(file_loc+\"\\data7.db\")\n",
    "df7=pd.read_sql(\"SELECT * FROM loan\",db7)\n",
    "db8= sql.connect(file_loc+\"\\data8.db\")\n",
    "df8=pd.read_sql(\"SELECT * FROM loan\",db8)\n",
    "db9= sql.connect(file_loc+\"\\data9.db\")\n",
    "df9=pd.read_sql(\"SELECT * FROM loan\",db9)\n",
    "db10= sql.connect(file_loc+\"\\data10.db\")\n",
    "df10=pd.read_sql(\"SELECT * FROM loan\",db10)\n",
    "db11= sql.connect(file_loc+\"\\data11.db\")\n",
    "df11=pd.read_sql(\"SELECT * FROM loan\",db11)\n",
    "db12= sql.connect(file_loc+\"\\data12.db\")\n",
    "df12=pd.read_sql(\"SELECT * FROM loan\",db12)"
   ]
  },
  {
   "cell_type": "code",
   "execution_count": 5,
   "metadata": {},
   "outputs": [
    {
     "data": {
      "text/plain": [
       "(434407, 65)"
      ]
     },
     "execution_count": 5,
     "metadata": {},
     "output_type": "execute_result"
    }
   ],
   "source": [
    "df = pd.DataFrame()\n",
    "df = df.append(df1)\n",
    "df = df.append(df2)\n",
    "df = df.append(df3)\n",
    "df = df.append(df4)\n",
    "df = df.append(df5)\n",
    "df = df.append(df6)\n",
    "df = df.append(df7)\n",
    "df = df.append(df8)\n",
    "df = df.append(df9)\n",
    "df = df.append(df10)\n",
    "df = df.append(df11)\n",
    "df = df.append(df12)\n",
    "df.shape"
   ]
  },
  {
   "cell_type": "code",
   "execution_count": 6,
   "metadata": {},
   "outputs": [
    {
     "data": {
      "text/html": [
       "<div>\n",
       "<style scoped>\n",
       "    .dataframe tbody tr th:only-of-type {\n",
       "        vertical-align: middle;\n",
       "    }\n",
       "\n",
       "    .dataframe tbody tr th {\n",
       "        vertical-align: top;\n",
       "    }\n",
       "\n",
       "    .dataframe thead th {\n",
       "        text-align: right;\n",
       "    }\n",
       "</style>\n",
       "<table border=\"1\" class=\"dataframe\">\n",
       "  <thead>\n",
       "    <tr style=\"text-align: right;\">\n",
       "      <th></th>\n",
       "      <th>loan_amnt</th>\n",
       "      <th>funded_amnt</th>\n",
       "      <th>funded_amnt_inv</th>\n",
       "      <th>term</th>\n",
       "      <th>int_rate</th>\n",
       "      <th>installment</th>\n",
       "      <th>grade</th>\n",
       "      <th>sub_grade</th>\n",
       "      <th>home_ownership</th>\n",
       "      <th>annual_inc</th>\n",
       "      <th>...</th>\n",
       "      <th>num_sats</th>\n",
       "      <th>num_tl_90g_dpd_24m</th>\n",
       "      <th>num_tl_op_past_12m</th>\n",
       "      <th>pct_tl_nvr_dlq</th>\n",
       "      <th>pub_rec_bankruptcies</th>\n",
       "      <th>tax_liens</th>\n",
       "      <th>tot_hi_cred_lim</th>\n",
       "      <th>total_bal_ex_mort</th>\n",
       "      <th>total_bc_limit</th>\n",
       "      <th>total_il_high_credit_limit</th>\n",
       "    </tr>\n",
       "  </thead>\n",
       "  <tbody>\n",
       "    <tr>\n",
       "      <th>0</th>\n",
       "      <td>17600</td>\n",
       "      <td>17600</td>\n",
       "      <td>17600</td>\n",
       "      <td>36 months</td>\n",
       "      <td>10.75%</td>\n",
       "      <td>574.12</td>\n",
       "      <td>B</td>\n",
       "      <td>B4</td>\n",
       "      <td>RENT</td>\n",
       "      <td>57109</td>\n",
       "      <td>...</td>\n",
       "      <td>6</td>\n",
       "      <td>0</td>\n",
       "      <td>1</td>\n",
       "      <td>95.1</td>\n",
       "      <td>1</td>\n",
       "      <td>0</td>\n",
       "      <td>88629</td>\n",
       "      <td>83563</td>\n",
       "      <td>2300</td>\n",
       "      <td>80329</td>\n",
       "    </tr>\n",
       "    <tr>\n",
       "      <th>1</th>\n",
       "      <td>12500</td>\n",
       "      <td>12500</td>\n",
       "      <td>12500</td>\n",
       "      <td>60 months</td>\n",
       "      <td>8.39%</td>\n",
       "      <td>255.8</td>\n",
       "      <td>B</td>\n",
       "      <td>B1</td>\n",
       "      <td>RENT</td>\n",
       "      <td>120000</td>\n",
       "      <td>...</td>\n",
       "      <td>9</td>\n",
       "      <td>0</td>\n",
       "      <td>1</td>\n",
       "      <td>100</td>\n",
       "      <td>0</td>\n",
       "      <td>0</td>\n",
       "      <td>80899</td>\n",
       "      <td>40673</td>\n",
       "      <td>48400</td>\n",
       "      <td>32499</td>\n",
       "    </tr>\n",
       "    <tr>\n",
       "      <th>2</th>\n",
       "      <td>10000</td>\n",
       "      <td>10000</td>\n",
       "      <td>10000</td>\n",
       "      <td>36 months</td>\n",
       "      <td>11.99%</td>\n",
       "      <td>332.1</td>\n",
       "      <td>C</td>\n",
       "      <td>C1</td>\n",
       "      <td>MORTGAGE</td>\n",
       "      <td>75000</td>\n",
       "      <td>...</td>\n",
       "      <td>9</td>\n",
       "      <td>0</td>\n",
       "      <td>2</td>\n",
       "      <td>100</td>\n",
       "      <td>0</td>\n",
       "      <td>1</td>\n",
       "      <td>71858</td>\n",
       "      <td>48844</td>\n",
       "      <td>0</td>\n",
       "      <td>60358</td>\n",
       "    </tr>\n",
       "    <tr>\n",
       "      <th>3</th>\n",
       "      <td>3000</td>\n",
       "      <td>3000</td>\n",
       "      <td>3000</td>\n",
       "      <td>36 months</td>\n",
       "      <td>7.39%</td>\n",
       "      <td>93.17</td>\n",
       "      <td>A</td>\n",
       "      <td>A4</td>\n",
       "      <td>RENT</td>\n",
       "      <td>80000</td>\n",
       "      <td>...</td>\n",
       "      <td>6</td>\n",
       "      <td>0</td>\n",
       "      <td>0</td>\n",
       "      <td>95</td>\n",
       "      <td>0</td>\n",
       "      <td>0</td>\n",
       "      <td>221908</td>\n",
       "      <td>25665</td>\n",
       "      <td>42200</td>\n",
       "      <td>30936</td>\n",
       "    </tr>\n",
       "    <tr>\n",
       "      <th>4</th>\n",
       "      <td>2000</td>\n",
       "      <td>2000</td>\n",
       "      <td>2000</td>\n",
       "      <td>36 months</td>\n",
       "      <td>6.49%</td>\n",
       "      <td>61.29</td>\n",
       "      <td>A</td>\n",
       "      <td>A2</td>\n",
       "      <td>RENT</td>\n",
       "      <td>90000</td>\n",
       "      <td>...</td>\n",
       "      <td>19</td>\n",
       "      <td>0</td>\n",
       "      <td>2</td>\n",
       "      <td>97.3</td>\n",
       "      <td>0</td>\n",
       "      <td>0</td>\n",
       "      <td>176338</td>\n",
       "      <td>68841</td>\n",
       "      <td>122100</td>\n",
       "      <td>48438</td>\n",
       "    </tr>\n",
       "  </tbody>\n",
       "</table>\n",
       "<p>5 rows × 65 columns</p>\n",
       "</div>"
      ],
      "text/plain": [
       "   loan_amnt  funded_amnt funded_amnt_inv        term int_rate installment  \\\n",
       "0      17600        17600           17600   36 months   10.75%      574.12   \n",
       "1      12500        12500           12500   60 months    8.39%       255.8   \n",
       "2      10000        10000           10000   36 months   11.99%       332.1   \n",
       "3       3000         3000            3000   36 months    7.39%       93.17   \n",
       "4       2000         2000            2000   36 months    6.49%       61.29   \n",
       "\n",
       "  grade sub_grade home_ownership annual_inc             ...              \\\n",
       "0     B        B4           RENT      57109             ...               \n",
       "1     B        B1           RENT     120000             ...               \n",
       "2     C        C1       MORTGAGE      75000             ...               \n",
       "3     A        A4           RENT      80000             ...               \n",
       "4     A        A2           RENT      90000             ...               \n",
       "\n",
       "  num_sats num_tl_90g_dpd_24m num_tl_op_past_12m pct_tl_nvr_dlq  \\\n",
       "0        6                  0                  1           95.1   \n",
       "1        9                  0                  1            100   \n",
       "2        9                  0                  2            100   \n",
       "3        6                  0                  0             95   \n",
       "4       19                  0                  2           97.3   \n",
       "\n",
       "  pub_rec_bankruptcies tax_liens  tot_hi_cred_lim total_bal_ex_mort  \\\n",
       "0                    1         0            88629             83563   \n",
       "1                    0         0            80899             40673   \n",
       "2                    0         1            71858             48844   \n",
       "3                    0         0           221908             25665   \n",
       "4                    0         0           176338             68841   \n",
       "\n",
       "   total_bc_limit  total_il_high_credit_limit  \n",
       "0            2300                       80329  \n",
       "1           48400                       32499  \n",
       "2               0                       60358  \n",
       "3           42200                       30936  \n",
       "4          122100                       48438  \n",
       "\n",
       "[5 rows x 65 columns]"
      ]
     },
     "execution_count": 6,
     "metadata": {},
     "output_type": "execute_result"
    }
   ],
   "source": [
    "df.head()"
   ]
  },
  {
   "cell_type": "markdown",
   "metadata": {},
   "source": [
    "# 2. Data Processing"
   ]
  },
  {
   "cell_type": "markdown",
   "metadata": {},
   "source": [
    "### 2.1 Prelimilary Data cleansing\n",
    "\n",
    "Through the prelimilary data viewing and the dictionary of all variables (you are able to reach out it at [Data Dictionary](https://resources.lendingclub.com/LCDataDictionary.xlsx)), we do the data cleansing as the following:\n",
    "\n",
    "1. Notice that the __grade__ and __subgrade__ variables are assessed directly from the interest rate, that is, the variable __int_rate__. Thus, mere __int_rate__ suffices to cover the information provided by them, and __grade__ and __subgrade__ can be removed from our list of variables. \n",
    "\n",
    "2. __zip_code__ is not appropriate to be deemed as a variable. ALso, the __addr_state__ includes the information.\n",
    "\n",
    "3. __issue_d__, __earliest_cr_line__ and __last_credit_pull_d__ don't contain valuable information, we also drop them.\n",
    "\n",
    "4. __collection_recovery_fee__ would definitely has a ratio relationship with __recoveries__ which should be dropped here.\n",
    "\n",
    "5. Since __total_pymnt__ is the sum of __total_rec_prncp__, __total_rec_int__, and __total_rec_late_fee__. Meanwhile, __total_pymnt_inv__ is almost the same as __total_pymnt__, obviously we should drop both of them to avoid multicollinearity. \n",
    "\n",
    "6. Finally, as __funded_amnt__,__funded_amnt_inv__ and __out_prncp_inv__ are all duplicate X variables in the dataset, we drop them as well."
   ]
  },
  {
   "cell_type": "code",
   "execution_count": 7,
   "metadata": {},
   "outputs": [
    {
     "data": {
      "text/plain": [
       "(434407, 53)"
      ]
     },
     "execution_count": 7,
     "metadata": {},
     "output_type": "execute_result"
    }
   ],
   "source": [
    "data = df.copy()\n",
    "\n",
    "col_drop = ['grade','sub_grade','issue_d','earliest_cr_line','zip_code','collection_recovery_fee',\n",
    "            'total_pymnt', 'total_pymnt_inv','last_credit_pull_d', 'funded_amnt','funded_amnt_inv','out_prncp_inv']\n",
    "data = data.drop(col_drop, axis = 1)\n",
    "data = data.reset_index(drop=True)\n",
    "data.shape"
   ]
  },
  {
   "cell_type": "markdown",
   "metadata": {},
   "source": [
    "### 2.2  Dummy variables creation\n",
    "\n",
    "Among the __$53$__ variables we have now, some of them are quantitative and have only a few statuses. For these variables, we can establish dummy variables that take either 0 or 1. For quantitative variables that have more than two categories, we combine some of to create more synthesized categories.\n",
    "\n",
    "      1. Response variable: loan_status\n",
    "\n",
    "   Because it has $7$ different categories, `Fully paid`, `Current`, `In Grace Period`, `Late(16-30 days)`, `Late(31-120 days)`, `Default`, `Charged Off`, we want to categorize them into two groups that result to a binary variable. \n",
    "   \n",
    "   Since the first two categories are signs of a good status of loan, and the latter five indicate different extents of late payment, we denote __good status__ as `Fully paid` or `Current`, and __bad status__ as `In Grace Period`, `Late(16-30 days)`, `Late(31-120 days)`, `Default` or `Charged Off`.\n",
    "   \n",
    "   loan_status$=\n",
    "\\left\\{\\begin{array}{cl} \n",
    "\t\t1,& \\text{good status}\\\\\n",
    "\t\t0,& \\text{bad status}\n",
    "\t\\end{array}\\right.$\n",
    "\n",
    "       2. Predictor variable 1: purpose\n",
    "    \n",
    "It also has multiple categories: `car, home-improvement, house, moving, major_purchase, renewable_enery, credit_card, debt_consolidation, small_business, medical, vacation and other`, which requires many dummy variables. \n",
    "    \n",
    "To make the situation simpler, except for __`medical`__, we classify `car, home_improvement, house, moving, major_purchase and renewable_enery` as __`property`__, `credit_card, debt_consolidation and small_business, vacation and other` as __`financial`__. Therefore, we get $3$ categories of purposes, which can be represented by $2$ dummy variables:\n",
    "\n",
    "purpose1$=\n",
    "\\left\\{\\begin{array}{cl} \n",
    "        1,& \\text{financial}\\\\\n",
    "        0,& \\text{medical} \n",
    "     \\end{array}\\right.$\n",
    "        \n",
    "purpose2$=\n",
    "\\left\\{\\begin{array}{cl} \n",
    "        1,&\\text{property} \\\\\n",
    "        0,&\\text{medical}  \n",
    "    \\end{array}\\right.$\n",
    "\n",
    "      3. Predictor variable 2: addr_state\n",
    "\n",
    "It records the state address of the borrower. Considering the data is collected from Lending Club, which locates in San Francisco, CA, we want to know whether it makes a difference if the loan request is from an instate borrower or not. In this case, we only have to make a distinction between a California loaner and a non California borrower.\n",
    "\n",
    "addr_state$=\n",
    "\\left\\{\\begin{array}{cl} \n",
    "\t\t1,&\\text{California} \\\\\n",
    "\t\t0,&\\text{other states}  \n",
    "\t\\end{array}\\right.$\n",
    "\n",
    "      4. Predictor variable 3: verification_status\n",
    "\n",
    "Similarly, in verification_status, we combine verified and source verified as verified:\n",
    "\n",
    "verification_status$=\n",
    "\\left\\{\\begin{array}{cl} \n",
    "\t\t1,& \\text{verified}\\\\\n",
    "\t\t0, & \\text{not verified}\n",
    "\t\\end{array}\\right.$\n",
    " \n",
    "      5. The other 4 more qualitative variables, which are coded as below:\n",
    "\n",
    "term$=\n",
    "\\left\\{\\begin{array}{cl} \n",
    "\t\t1,&\\text{36 months} \\\\\n",
    "\t\t0,&\\text{60 others}  \n",
    "\t\\end{array}\\right.$\n",
    " \n",
    "home_ownership1$=\n",
    "\\left\\{\\begin{array}{cl} \n",
    "\t\t1,& \\text{rent}\\\\\n",
    "\t\t0,& \\text{any}  \n",
    "\t\\end{array}\\right.$, \n",
    "home_ownership2$=\n",
    "\\left\\{\\begin{array}{cl} \n",
    "\t\t1,& \\text{own}\\\\\n",
    "\t\t0,& \\text{any}\n",
    "\t\\end{array}\\right.$, \n",
    "home_ownership3$=\n",
    "\\left\\{\\begin{array}{cl} \n",
    "\t\t1,& \\text{mortage}\\\\\n",
    "\t\t0,& \\text{any} \n",
    "\t\\end{array}\\right.$\n",
    "\n",
    "initial_list_status$=\n",
    "\\left\\{\\begin{array}{cl} \n",
    "\t\t1,& \\text{whole}\\\\\n",
    "\t\t0,& \\text{fraction}\n",
    "\t\\end{array}\\right.$\n",
    "\n",
    "application_type$=\n",
    "\\left\\{\\begin{array}{cl} \n",
    "\t\t1,& \\text{Individual}\\\\\n",
    "\t\t0,& \\text{Joint App}\n",
    "\t\\end{array}\\right.$"
   ]
  },
  {
   "cell_type": "code",
   "execution_count": 8,
   "metadata": {
    "collapsed": true
   },
   "outputs": [],
   "source": [
    "y_temp = data['loan_status']"
   ]
  },
  {
   "cell_type": "code",
   "execution_count": 9,
   "metadata": {
    "collapsed": true
   },
   "outputs": [],
   "source": [
    "# recode loan_status\n",
    "y = y_temp.copy()\n",
    "for i in range(len(y)):\n",
    "    if (y_temp[i] == 'Fully Paid') or (y_temp[i] == 'Current'):\n",
    "        y[i] = 'good'\n",
    "    else:\n",
    "        y[i] = 'bad'"
   ]
  },
  {
   "cell_type": "code",
   "execution_count": 10,
   "metadata": {},
   "outputs": [
    {
     "data": {
      "text/plain": [
       "0    good\n",
       "1    good\n",
       "2    good\n",
       "3    good\n",
       "4    good\n",
       "Name: loan_status, dtype: object"
      ]
     },
     "execution_count": 10,
     "metadata": {},
     "output_type": "execute_result"
    }
   ],
   "source": [
    "y.head()"
   ]
  },
  {
   "cell_type": "code",
   "execution_count": 11,
   "metadata": {
    "collapsed": true
   },
   "outputs": [],
   "source": [
    "purpose_temp = data['purpose']"
   ]
  },
  {
   "cell_type": "code",
   "execution_count": 12,
   "metadata": {
    "collapsed": true
   },
   "outputs": [],
   "source": [
    "#recode purposes\n",
    "purpose = purpose_temp.copy()\n",
    "for i in range(len(purpose)):\n",
    "    if (purpose_temp[i] == 'credit_card') or ( purpose_temp[i] == 'debt_consolidation') or (purpose_temp[i] == 'small_business') or (purpose_temp[i] == 'vacation') or (purpose_temp[i] == 'other'):\n",
    "        purpose[i] = 'financial'\n",
    "    elif purpose_temp[i] == 'medical':\n",
    "        purpose[i] == 'medical'\n",
    "    else:\n",
    "        purpose[i] = 'property'"
   ]
  },
  {
   "cell_type": "code",
   "execution_count": 13,
   "metadata": {
    "scrolled": true
   },
   "outputs": [
    {
     "data": {
      "text/plain": [
       "0    financial\n",
       "1    financial\n",
       "2    financial\n",
       "3    financial\n",
       "4    financial\n",
       "Name: purpose, dtype: object"
      ]
     },
     "execution_count": 13,
     "metadata": {},
     "output_type": "execute_result"
    }
   ],
   "source": [
    "purpose.head()"
   ]
  },
  {
   "cell_type": "code",
   "execution_count": 14,
   "metadata": {
    "collapsed": true
   },
   "outputs": [],
   "source": [
    "addr_state_temp = data['addr_state']"
   ]
  },
  {
   "cell_type": "code",
   "execution_count": 15,
   "metadata": {
    "collapsed": true
   },
   "outputs": [],
   "source": [
    "#recode addr_state\n",
    "addr_state = addr_state_temp.copy()\n",
    "for i in range(len(y)):\n",
    "    if addr_state_temp[i] == 'CA':\n",
    "        addr_state[i] = 'CA'\n",
    "    else:\n",
    "        addr_state[i] = 'other'"
   ]
  },
  {
   "cell_type": "code",
   "execution_count": 16,
   "metadata": {},
   "outputs": [
    {
     "data": {
      "text/plain": [
       "0    other\n",
       "1    other\n",
       "2    other\n",
       "3    other\n",
       "4    other\n",
       "Name: addr_state, dtype: object"
      ]
     },
     "execution_count": 16,
     "metadata": {},
     "output_type": "execute_result"
    }
   ],
   "source": [
    "addr_state.head()"
   ]
  },
  {
   "cell_type": "code",
   "execution_count": 17,
   "metadata": {
    "collapsed": true
   },
   "outputs": [],
   "source": [
    "verification_status_temp = data['verification_status']"
   ]
  },
  {
   "cell_type": "code",
   "execution_count": 18,
   "metadata": {
    "collapsed": true
   },
   "outputs": [],
   "source": [
    "#recode addr_state\n",
    "verification_status = verification_status_temp.copy()\n",
    "for i in range(len(y)):\n",
    "    if verification_status_temp[i] == 'Not Verified':\n",
    "        verification_status[i] = 'not verified'\n",
    "    else:\n",
    "        verification_status[i] = 'verified'"
   ]
  },
  {
   "cell_type": "code",
   "execution_count": 19,
   "metadata": {},
   "outputs": [
    {
     "data": {
      "text/plain": [
       "0        verified\n",
       "1    not verified\n",
       "2    not verified\n",
       "3    not verified\n",
       "4    not verified\n",
       "Name: verification_status, dtype: object"
      ]
     },
     "execution_count": 19,
     "metadata": {},
     "output_type": "execute_result"
    }
   ],
   "source": [
    "verification_status.head()"
   ]
  },
  {
   "cell_type": "code",
   "execution_count": 20,
   "metadata": {
    "collapsed": true
   },
   "outputs": [],
   "source": [
    "#Create dummy variables\n",
    "dummy1 = pd.get_dummies(y)\n",
    "dummy2 = pd.get_dummies(purpose)\n",
    "dummy3 = pd.get_dummies(addr_state)\n",
    "dummy4 = pd.get_dummies(data['term'])\n",
    "dummy5 = pd.get_dummies(data['home_ownership'])\n",
    "dummy6 = pd.get_dummies(verification_status)\n",
    "dummy7 = pd.get_dummies(data['initial_list_status'])\n",
    "dummy8 = pd.get_dummies(data['application_type'])"
   ]
  },
  {
   "cell_type": "code",
   "execution_count": 21,
   "metadata": {
    "scrolled": false
   },
   "outputs": [
    {
     "data": {
      "text/html": [
       "<div>\n",
       "<style scoped>\n",
       "    .dataframe tbody tr th:only-of-type {\n",
       "        vertical-align: middle;\n",
       "    }\n",
       "\n",
       "    .dataframe tbody tr th {\n",
       "        vertical-align: top;\n",
       "    }\n",
       "\n",
       "    .dataframe thead th {\n",
       "        text-align: right;\n",
       "    }\n",
       "</style>\n",
       "<table border=\"1\" class=\"dataframe\">\n",
       "  <thead>\n",
       "    <tr style=\"text-align: right;\">\n",
       "      <th></th>\n",
       "      <th>loan_amnt</th>\n",
       "      <th>term</th>\n",
       "      <th>int_rate</th>\n",
       "      <th>installment</th>\n",
       "      <th>annual_inc</th>\n",
       "      <th>verification_status</th>\n",
       "      <th>loan_status</th>\n",
       "      <th>addr_state</th>\n",
       "      <th>delinq_2yrs</th>\n",
       "      <th>open_acc</th>\n",
       "      <th>...</th>\n",
       "      <th>tax_liens</th>\n",
       "      <th>tot_hi_cred_lim</th>\n",
       "      <th>total_bal_ex_mort</th>\n",
       "      <th>total_bc_limit</th>\n",
       "      <th>total_il_high_credit_limit</th>\n",
       "      <th>financial</th>\n",
       "      <th>property</th>\n",
       "      <th>MORTGAGE</th>\n",
       "      <th>OWN</th>\n",
       "      <th>RENT</th>\n",
       "    </tr>\n",
       "  </thead>\n",
       "  <tbody>\n",
       "    <tr>\n",
       "      <th>0</th>\n",
       "      <td>17600.0</td>\n",
       "      <td>1.0</td>\n",
       "      <td>0.1075</td>\n",
       "      <td>574.12</td>\n",
       "      <td>57109.0</td>\n",
       "      <td>1.0</td>\n",
       "      <td>1.0</td>\n",
       "      <td>0.0</td>\n",
       "      <td>0.0</td>\n",
       "      <td>6.0</td>\n",
       "      <td>...</td>\n",
       "      <td>0.0</td>\n",
       "      <td>88629.0</td>\n",
       "      <td>83563.0</td>\n",
       "      <td>2300.0</td>\n",
       "      <td>80329.0</td>\n",
       "      <td>1.0</td>\n",
       "      <td>0.0</td>\n",
       "      <td>0.0</td>\n",
       "      <td>0.0</td>\n",
       "      <td>1.0</td>\n",
       "    </tr>\n",
       "    <tr>\n",
       "      <th>1</th>\n",
       "      <td>12500.0</td>\n",
       "      <td>0.0</td>\n",
       "      <td>0.0839</td>\n",
       "      <td>255.80</td>\n",
       "      <td>120000.0</td>\n",
       "      <td>0.0</td>\n",
       "      <td>1.0</td>\n",
       "      <td>0.0</td>\n",
       "      <td>0.0</td>\n",
       "      <td>9.0</td>\n",
       "      <td>...</td>\n",
       "      <td>0.0</td>\n",
       "      <td>80899.0</td>\n",
       "      <td>40673.0</td>\n",
       "      <td>48400.0</td>\n",
       "      <td>32499.0</td>\n",
       "      <td>1.0</td>\n",
       "      <td>0.0</td>\n",
       "      <td>0.0</td>\n",
       "      <td>0.0</td>\n",
       "      <td>1.0</td>\n",
       "    </tr>\n",
       "    <tr>\n",
       "      <th>2</th>\n",
       "      <td>10000.0</td>\n",
       "      <td>1.0</td>\n",
       "      <td>0.1199</td>\n",
       "      <td>332.10</td>\n",
       "      <td>75000.0</td>\n",
       "      <td>0.0</td>\n",
       "      <td>1.0</td>\n",
       "      <td>0.0</td>\n",
       "      <td>0.0</td>\n",
       "      <td>9.0</td>\n",
       "      <td>...</td>\n",
       "      <td>1.0</td>\n",
       "      <td>71858.0</td>\n",
       "      <td>48844.0</td>\n",
       "      <td>0.0</td>\n",
       "      <td>60358.0</td>\n",
       "      <td>1.0</td>\n",
       "      <td>0.0</td>\n",
       "      <td>1.0</td>\n",
       "      <td>0.0</td>\n",
       "      <td>0.0</td>\n",
       "    </tr>\n",
       "    <tr>\n",
       "      <th>3</th>\n",
       "      <td>3000.0</td>\n",
       "      <td>1.0</td>\n",
       "      <td>0.0739</td>\n",
       "      <td>93.17</td>\n",
       "      <td>80000.0</td>\n",
       "      <td>0.0</td>\n",
       "      <td>1.0</td>\n",
       "      <td>0.0</td>\n",
       "      <td>1.0</td>\n",
       "      <td>6.0</td>\n",
       "      <td>...</td>\n",
       "      <td>0.0</td>\n",
       "      <td>221908.0</td>\n",
       "      <td>25665.0</td>\n",
       "      <td>42200.0</td>\n",
       "      <td>30936.0</td>\n",
       "      <td>1.0</td>\n",
       "      <td>0.0</td>\n",
       "      <td>0.0</td>\n",
       "      <td>0.0</td>\n",
       "      <td>1.0</td>\n",
       "    </tr>\n",
       "    <tr>\n",
       "      <th>4</th>\n",
       "      <td>2000.0</td>\n",
       "      <td>1.0</td>\n",
       "      <td>0.0649</td>\n",
       "      <td>61.29</td>\n",
       "      <td>90000.0</td>\n",
       "      <td>0.0</td>\n",
       "      <td>1.0</td>\n",
       "      <td>0.0</td>\n",
       "      <td>0.0</td>\n",
       "      <td>19.0</td>\n",
       "      <td>...</td>\n",
       "      <td>0.0</td>\n",
       "      <td>176338.0</td>\n",
       "      <td>68841.0</td>\n",
       "      <td>122100.0</td>\n",
       "      <td>48438.0</td>\n",
       "      <td>1.0</td>\n",
       "      <td>0.0</td>\n",
       "      <td>0.0</td>\n",
       "      <td>0.0</td>\n",
       "      <td>1.0</td>\n",
       "    </tr>\n",
       "  </tbody>\n",
       "</table>\n",
       "<p>5 rows × 56 columns</p>\n",
       "</div>"
      ],
      "text/plain": [
       "   loan_amnt  term  int_rate  installment  annual_inc  verification_status  \\\n",
       "0    17600.0   1.0    0.1075       574.12     57109.0                  1.0   \n",
       "1    12500.0   0.0    0.0839       255.80    120000.0                  0.0   \n",
       "2    10000.0   1.0    0.1199       332.10     75000.0                  0.0   \n",
       "3     3000.0   1.0    0.0739        93.17     80000.0                  0.0   \n",
       "4     2000.0   1.0    0.0649        61.29     90000.0                  0.0   \n",
       "\n",
       "   loan_status  addr_state  delinq_2yrs  open_acc  ...   tax_liens  \\\n",
       "0          1.0         0.0          0.0       6.0  ...         0.0   \n",
       "1          1.0         0.0          0.0       9.0  ...         0.0   \n",
       "2          1.0         0.0          0.0       9.0  ...         1.0   \n",
       "3          1.0         0.0          1.0       6.0  ...         0.0   \n",
       "4          1.0         0.0          0.0      19.0  ...         0.0   \n",
       "\n",
       "   tot_hi_cred_lim  total_bal_ex_mort  total_bc_limit  \\\n",
       "0          88629.0            83563.0          2300.0   \n",
       "1          80899.0            40673.0         48400.0   \n",
       "2          71858.0            48844.0             0.0   \n",
       "3         221908.0            25665.0         42200.0   \n",
       "4         176338.0            68841.0        122100.0   \n",
       "\n",
       "   total_il_high_credit_limit  financial  property  MORTGAGE  OWN  RENT  \n",
       "0                     80329.0        1.0       0.0       0.0  0.0   1.0  \n",
       "1                     32499.0        1.0       0.0       0.0  0.0   1.0  \n",
       "2                     60358.0        1.0       0.0       1.0  0.0   0.0  \n",
       "3                     30936.0        1.0       0.0       0.0  0.0   1.0  \n",
       "4                     48438.0        1.0       0.0       0.0  0.0   1.0  \n",
       "\n",
       "[5 rows x 56 columns]"
      ]
     },
     "execution_count": 21,
     "metadata": {},
     "output_type": "execute_result"
    }
   ],
   "source": [
    "#Insert dummy variables into dataset\n",
    "data['loan_status'] = dummy1['good']\n",
    "data['addr_state'] = dummy3['CA']\n",
    "data['term'] = dummy4[' 36 months']\n",
    "data['verification_status'] = dummy6['verified']\n",
    "data['initial_list_status'] = dummy7['w']\n",
    "data['application_type'] = dummy8['Individual']\n",
    "\n",
    "data = data.drop(['purpose','home_ownership'], axis = 1)\n",
    "data = pd.concat([data, dummy2.iloc[:,[0,2]],dummy5.iloc[:,1:4]],axis = 1)\n",
    "\n",
    "# convert all data as float\n",
    "data['int_rate'] = [x[:-1] for x in data['int_rate']]\n",
    "data = data.astype(float)\n",
    "data['int_rate'] = data['int_rate']/100\n",
    "\n",
    "data.head()"
   ]
  },
  {
   "cell_type": "code",
   "execution_count": 22,
   "metadata": {
    "collapsed": true
   },
   "outputs": [],
   "source": [
    "# store the categorical variable indexes\n",
    "data_category = ['loan_status','verification_status','addr_state', 'term', 'initial_list_status',\n",
    "                 'application_type','financial','property','MORTGAGE','OWN','RENT']"
   ]
  },
  {
   "cell_type": "markdown",
   "metadata": {},
   "source": [
    "### 2.3 Variable Selection (Group Lasso)\n",
    "\n",
    "As we have two sets of group dummy variables, __Group Lasso__ has been taken into consideration since __the simple Lasso__ seems to be unsuitable here."
   ]
  },
  {
   "cell_type": "code",
   "execution_count": 28,
   "metadata": {
    "collapsed": true
   },
   "outputs": [],
   "source": [
    "from pyglmnet import GLM\n",
    "from  sklearn.preprocessing  import scale\n",
    "\n",
    "data_lasso = data.copy()\n",
    "\n",
    "# Scale the numerical variables\n",
    "data_lasso[data.columns[~data_lasso.columns.isin(data_category)]]=scale(data_lasso[data.columns[~data_lasso.columns.isin(data_category)]])"
   ]
  },
  {
   "cell_type": "code",
   "execution_count": 29,
   "metadata": {
    "collapsed": true
   },
   "outputs": [],
   "source": [
    "X = data_lasso[data_lasso.columns.difference(['loan_status'])].values\n",
    "y = data_lasso.loc[:, 'loan_status'].values\n",
    "X=X.astype(float)"
   ]
  },
  {
   "cell_type": "code",
   "execution_count": 27,
   "metadata": {},
   "outputs": [
    {
     "data": {
      "text/plain": [
       "array([ 1,  2,  3,  4,  5,  6,  7,  8,  9, 10, 11, 12, 13, 14, 15, 16, 17,\n",
       "       18, 19, 20, 21, 22, 23, 24, 25, 26, 27, 28, 29, 30, 31, 32, 33, 34,\n",
       "       35, 36, 37, 38, 39, 40, 41, 42, 43, 44, 45, 46, 47, 48, 49, 50, 51,\n",
       "       51, 52, 52, 52], dtype=int64)"
      ]
     },
     "execution_count": 27,
     "metadata": {},
     "output_type": "execute_result"
    }
   ],
   "source": [
    "group_idxs = np.arange(len(data_lasso.columns)-1)+1\n",
    "group_idxs[-3:] = group_idxs[-4]\n",
    "group_idxs[-5:-3] = group_idxs[-5]\n",
    "group_idxs = group_idxs.astype('int64')\n",
    "group_idxs"
   ]
  },
  {
   "cell_type": "markdown",
   "metadata": {},
   "source": [
    "#### ----$\\lambda$ Selection----\n",
    "\n",
    "Since we've tried lots of different $\\lambda$, during which the __pseudo-__$ R^2$ shows to keep decreasing from $\\lambda = 1$. Finally we bulid the Group Lasso through trying 250 different $\\lambda$ ranging from $0.01$ to $1$ as the following:"
   ]
  },
  {
   "cell_type": "code",
   "execution_count": 65,
   "metadata": {
    "collapsed": true
   },
   "outputs": [],
   "source": [
    "#set up the group lasso GLM model\n",
    "trial_lambda=np.logspace(np.log(100), np.log(.01), 500, base=np.exp(1))[250:]\n",
    "\n",
    "gl_glm = GLM(distr=\"binomial\",\n",
    "             tol=1e-2,\n",
    "             group=group_idxs,\n",
    "             score_metric=\"pseudo_R2\",\n",
    "             #solver = 'cdfast',\n",
    "             alpha=1,\n",
    "             reg_lambda=trial_lambda)"
   ]
  },
  {
   "cell_type": "code",
   "execution_count": 66,
   "metadata": {},
   "outputs": [
    {
     "data": {
      "text/plain": [
       "<\n",
       "Distribution | binomial\n",
       "alpha | 1.00\n",
       "max_iter | 1000.00\n",
       "lambda: 0.99 to 0.01\n",
       ">"
      ]
     },
     "execution_count": 66,
     "metadata": {},
     "output_type": "execute_result"
    }
   ],
   "source": [
    "gl_glm.fit(X, y)"
   ]
  },
  {
   "cell_type": "code",
   "execution_count": 67,
   "metadata": {
    "collapsed": true
   },
   "outputs": [],
   "source": [
    "# get the pseudo-R^2\n",
    "R_2 = gl_glm.score(X, y)"
   ]
  },
  {
   "cell_type": "code",
   "execution_count": 71,
   "metadata": {},
   "outputs": [
    {
     "data": {
      "image/png": "[encoded data removed]",
      "text/plain": [
       "<matplotlib.figure.Figure at 0x21f1c8b5ef0>"
      ]
     },
     "metadata": {},
     "output_type": "display_data"
    }
   ],
   "source": [
    "plt.figure(figsize=(20,5))\n",
    "plt.plot(gl_glm.reg_lambda, R_2, label = 'Group Lasso')\n",
    "plt.xlabel('$\\lambda$')\n",
    "plt.ylabel('pseudo-$R^2$')\n",
    "#plt.ylim([-0.1, 0.7])\n",
    "plt.xlim([.01,1])\n",
    "\n",
    "plt.tick_params(axis='y', right='off')\n",
    "plt.tick_params(axis='x', top='off')\n",
    "ax = plt.gca()\n",
    "\n",
    "ax.set_xticks(np.arange(0.01, 1,.03))\n",
    "#ax.set_xticks(np.arange(0, 1, .05))\n",
    "ax.set_yticks(np.arange(0, 1., 0.1))\n",
    "plt.grid()\n",
    "\n",
    "plt.legend()\n",
    "plt.show()"
   ]
  },
  {
   "cell_type": "code",
   "execution_count": 85,
   "metadata": {},
   "outputs": [
    {
     "data": {
      "text/plain": [
       "39"
      ]
     },
     "execution_count": 85,
     "metadata": {},
     "output_type": "execute_result"
    }
   ],
   "source": [
    "sum(reg_lambda>.485)"
   ]
  },
  {
   "cell_type": "code",
   "execution_count": 75,
   "metadata": {},
   "outputs": [
    {
     "name": "stdout",
     "output_type": "stream",
     "text": [
      "Best lambda is 0.49134072862963607\n"
     ]
    },
    {
     "data": {
      "text/plain": [
       "array([[ 0.36858478],\n",
       "       [-0.32241935],\n",
       "       [ 0.23573884],\n",
       "       [ 0.01323486],\n",
       "       [ 0.01044898]])"
      ]
     },
     "execution_count": 75,
     "metadata": {},
     "output_type": "execute_result"
    }
   ],
   "source": [
    "# upon above graph, we are able to get the best lambda and best beta which are the following:\n",
    "print('Best lambda is',reg_lambda[38])\n",
    "best_beta_1 = gl_glm.fit_[38]['beta']\n",
    "best_beta_1[-5:]"
   ]
  },
  {
   "cell_type": "markdown",
   "metadata": {},
   "source": [
    "However, through trying a big range of $\\lambda$ from $1$ to $10^{10}$, we are still not able to zero out any X variables. Finally, we decide to set a reasonable threshold to realize the property of __Group Lasso__.\n",
    "\n",
    "Upon the above output(the last five coefficients of the two sets of group dummy variables), $0.05$ becomes the ideal choice, and it successfully selects out $18$ predictor variables."
   ]
  },
  {
   "cell_type": "code",
   "execution_count": 79,
   "metadata": {},
   "outputs": [
    {
     "data": {
      "text/plain": [
       "array([18])"
      ]
     },
     "execution_count": 79,
     "metadata": {},
     "output_type": "execute_result"
    }
   ],
   "source": [
    "sum(abs(best_beta_1)>.05)"
   ]
  },
  {
   "cell_type": "code",
   "execution_count": 80,
   "metadata": {
    "scrolled": true
   },
   "outputs": [
    {
     "data": {
      "text/html": [
       "<div>\n",
       "<style scoped>\n",
       "    .dataframe tbody tr th:only-of-type {\n",
       "        vertical-align: middle;\n",
       "    }\n",
       "\n",
       "    .dataframe tbody tr th {\n",
       "        vertical-align: top;\n",
       "    }\n",
       "\n",
       "    .dataframe thead th {\n",
       "        text-align: right;\n",
       "    }\n",
       "</style>\n",
       "<table border=\"1\" class=\"dataframe\">\n",
       "  <thead>\n",
       "    <tr style=\"text-align: right;\">\n",
       "      <th></th>\n",
       "      <th>loan_amnt</th>\n",
       "      <th>term</th>\n",
       "      <th>int_rate</th>\n",
       "      <th>annual_inc</th>\n",
       "      <th>out_prncp</th>\n",
       "      <th>total_rec_prncp</th>\n",
       "      <th>total_rec_int</th>\n",
       "      <th>total_rec_late_fee</th>\n",
       "      <th>recoveries</th>\n",
       "      <th>last_pymnt_amnt</th>\n",
       "      <th>num_bc_tl</th>\n",
       "      <th>num_op_rev_tl</th>\n",
       "      <th>num_rev_tl_bal_gt_0</th>\n",
       "      <th>num_tl_op_past_12m</th>\n",
       "      <th>total_bc_limit</th>\n",
       "      <th>finantial</th>\n",
       "      <th>property</th>\n",
       "      <th>MORTGAGE</th>\n",
       "    </tr>\n",
       "  </thead>\n",
       "  <tbody>\n",
       "    <tr>\n",
       "      <th>0</th>\n",
       "      <td>17600.0</td>\n",
       "      <td>1.0</td>\n",
       "      <td>0.1075</td>\n",
       "      <td>57109.0</td>\n",
       "      <td>0.00</td>\n",
       "      <td>17600.00</td>\n",
       "      <td>1105.74</td>\n",
       "      <td>0.0</td>\n",
       "      <td>0.0</td>\n",
       "      <td>14521.94</td>\n",
       "      <td>9.0</td>\n",
       "      <td>4.0</td>\n",
       "      <td>2.0</td>\n",
       "      <td>1.0</td>\n",
       "      <td>2300.0</td>\n",
       "      <td>1.0</td>\n",
       "      <td>0.0</td>\n",
       "      <td>0.0</td>\n",
       "    </tr>\n",
       "    <tr>\n",
       "      <th>1</th>\n",
       "      <td>12500.0</td>\n",
       "      <td>0.0</td>\n",
       "      <td>0.0839</td>\n",
       "      <td>120000.0</td>\n",
       "      <td>7716.54</td>\n",
       "      <td>4783.46</td>\n",
       "      <td>1855.69</td>\n",
       "      <td>0.0</td>\n",
       "      <td>0.0</td>\n",
       "      <td>255.80</td>\n",
       "      <td>6.0</td>\n",
       "      <td>6.0</td>\n",
       "      <td>4.0</td>\n",
       "      <td>1.0</td>\n",
       "      <td>48400.0</td>\n",
       "      <td>1.0</td>\n",
       "      <td>0.0</td>\n",
       "      <td>0.0</td>\n",
       "    </tr>\n",
       "    <tr>\n",
       "      <th>2</th>\n",
       "      <td>10000.0</td>\n",
       "      <td>1.0</td>\n",
       "      <td>0.1199</td>\n",
       "      <td>75000.0</td>\n",
       "      <td>3145.38</td>\n",
       "      <td>6854.62</td>\n",
       "      <td>1766.66</td>\n",
       "      <td>0.0</td>\n",
       "      <td>0.0</td>\n",
       "      <td>332.10</td>\n",
       "      <td>7.0</td>\n",
       "      <td>5.0</td>\n",
       "      <td>3.0</td>\n",
       "      <td>2.0</td>\n",
       "      <td>0.0</td>\n",
       "      <td>1.0</td>\n",
       "      <td>0.0</td>\n",
       "      <td>1.0</td>\n",
       "    </tr>\n",
       "    <tr>\n",
       "      <th>3</th>\n",
       "      <td>3000.0</td>\n",
       "      <td>1.0</td>\n",
       "      <td>0.0739</td>\n",
       "      <td>80000.0</td>\n",
       "      <td>588.27</td>\n",
       "      <td>2411.73</td>\n",
       "      <td>301.62</td>\n",
       "      <td>0.0</td>\n",
       "      <td>0.0</td>\n",
       "      <td>93.17</td>\n",
       "      <td>8.0</td>\n",
       "      <td>4.0</td>\n",
       "      <td>3.0</td>\n",
       "      <td>0.0</td>\n",
       "      <td>42200.0</td>\n",
       "      <td>1.0</td>\n",
       "      <td>0.0</td>\n",
       "      <td>0.0</td>\n",
       "    </tr>\n",
       "    <tr>\n",
       "      <th>4</th>\n",
       "      <td>2000.0</td>\n",
       "      <td>1.0</td>\n",
       "      <td>0.0649</td>\n",
       "      <td>90000.0</td>\n",
       "      <td>0.00</td>\n",
       "      <td>2000.00</td>\n",
       "      <td>108.98</td>\n",
       "      <td>0.0</td>\n",
       "      <td>0.0</td>\n",
       "      <td>1497.52</td>\n",
       "      <td>16.0</td>\n",
       "      <td>17.0</td>\n",
       "      <td>7.0</td>\n",
       "      <td>2.0</td>\n",
       "      <td>122100.0</td>\n",
       "      <td>1.0</td>\n",
       "      <td>0.0</td>\n",
       "      <td>0.0</td>\n",
       "    </tr>\n",
       "  </tbody>\n",
       "</table>\n",
       "</div>"
      ],
      "text/plain": [
       "   loan_amnt  term  int_rate  annual_inc  out_prncp  total_rec_prncp  \\\n",
       "0    17600.0   1.0    0.1075     57109.0       0.00         17600.00   \n",
       "1    12500.0   0.0    0.0839    120000.0    7716.54          4783.46   \n",
       "2    10000.0   1.0    0.1199     75000.0    3145.38          6854.62   \n",
       "3     3000.0   1.0    0.0739     80000.0     588.27          2411.73   \n",
       "4     2000.0   1.0    0.0649     90000.0       0.00          2000.00   \n",
       "\n",
       "   total_rec_int  total_rec_late_fee  recoveries  last_pymnt_amnt  num_bc_tl  \\\n",
       "0        1105.74                 0.0         0.0         14521.94        9.0   \n",
       "1        1855.69                 0.0         0.0           255.80        6.0   \n",
       "2        1766.66                 0.0         0.0           332.10        7.0   \n",
       "3         301.62                 0.0         0.0            93.17        8.0   \n",
       "4         108.98                 0.0         0.0          1497.52       16.0   \n",
       "\n",
       "   num_op_rev_tl  num_rev_tl_bal_gt_0  num_tl_op_past_12m  total_bc_limit  \\\n",
       "0            4.0                  2.0                 1.0          2300.0   \n",
       "1            6.0                  4.0                 1.0         48400.0   \n",
       "2            5.0                  3.0                 2.0             0.0   \n",
       "3            4.0                  3.0                 0.0         42200.0   \n",
       "4           17.0                  7.0                 2.0        122100.0   \n",
       "\n",
       "   finantial  property  MORTGAGE  \n",
       "0        1.0       0.0       0.0  \n",
       "1        1.0       0.0       0.0  \n",
       "2        1.0       0.0       1.0  \n",
       "3        1.0       0.0       0.0  \n",
       "4        1.0       0.0       0.0  "
      ]
     },
     "execution_count": 80,
     "metadata": {},
     "output_type": "execute_result"
    }
   ],
   "source": [
    "select_X = abs(best_beta_1)>.05\n",
    "# below are the selected x variables\n",
    "selected_X = data.columns.drop('loan_status')[select_X.T[0]]\n",
    "data[selected_X].head()"
   ]
  },
  {
   "cell_type": "code",
   "execution_count": 51,
   "metadata": {},
   "outputs": [
    {
     "data": {
      "text/plain": [
       "Index(['loan_amnt', 'term', 'int_rate', 'annual_inc', 'out_prncp',\n",
       "       'total_rec_prncp', 'total_rec_int', 'total_rec_late_fee', 'recoveries',\n",
       "       'last_pymnt_amnt', 'num_bc_tl', 'num_op_rev_tl', 'num_rev_tl_bal_gt_0',\n",
       "       'num_tl_op_past_12m', 'total_bc_limit', 'financial', 'property',\n",
       "       'MORTGAGE'],\n",
       "      dtype='object')"
      ]
     },
     "execution_count": 51,
     "metadata": {},
     "output_type": "execute_result"
    }
   ],
   "source": [
    "selected_X"
   ]
  },
  {
   "cell_type": "markdown",
   "metadata": {},
   "source": [
    "#### Analysis of selected Variables upon Group Lasso\n",
    "\n",
    "The following $18$ selected variables are all reasonable to be high impact factors for the __loan status__.\n",
    "\n",
    "\n",
    "1. __loan_amnt__ (the list amount of the loan applied by the borrowers), __term__ (The number of payments on the loan. 36months/60months), __int_rate__ (interest rate on the loan), __annual_inc__ (The self-reported annual income provided by the borrower during registration) would definitely be the critical part that determine and demonstrate the borrower's loan repayment pressure and financial capacity.\n",
    "\n",
    "2. __out_prncp__ (Remaining outstanding principal for total amount funded), __total_rec_prncp__ (Principal received to date), __total_rec_int__ (Interest received to date), __total_rec_late_fee__ (Late fees received to date), __recoveries__ (post charge off gross recovery) and __last_pymnt_amnt__ (Last total payment amount received) are regarded as the record for this loan repayment status, which can be used to track and predict the future repayment capacity for the borrower.\n",
    "\n",
    "3. __num_bc_tl__ (Number of bankcard accounts), __num_op_rev_tl__ (Number of open revolving accounts), __num_rev_tl_bal_gt_0__ (Number of revolving trades with balance >0), __num_tl_op_past_12m__ (Number of accounts opened in past 12 months), __total_bc_limit__ (Total bankcard high credit/credit limit) represents the borrower's credit and consumption status.\n",
    "\n",
    "4. *__Purpose__ (financial, property, medical): This group of dummy variables have all been covered under the 0.05 threshold and it is reasonable to be taken into consideration here.\n",
    "\n",
    "5. __home_ownership__ (MORTGAGE): The coefficients of `Rent` and `OWN` status is much smaller compared to that of `MORGAGE`, which makes sense here since for borrowers whose houses are under the morgage status, definitely they have a heavier pressure which would be an important factor to impact the final loan status."
   ]
  },
  {
   "cell_type": "markdown",
   "metadata": {},
   "source": [
    "### 2.4 Data Description\n",
    "\n",
    "#### 2.4.1 Numerical Variables"
   ]
  },
  {
   "cell_type": "markdown",
   "metadata": {},
   "source": [
    "After we selected significant predictor variables, we start our fundemental data analysis. First we strat with numerical predictor variables."
   ]
  },
  {
   "cell_type": "code",
   "execution_count": 23,
   "metadata": {},
   "outputs": [
    {
     "data": {
      "text/html": [
       "<div>\n",
       "<style scoped>\n",
       "    .dataframe tbody tr th:only-of-type {\n",
       "        vertical-align: middle;\n",
       "    }\n",
       "\n",
       "    .dataframe tbody tr th {\n",
       "        vertical-align: top;\n",
       "    }\n",
       "\n",
       "    .dataframe thead th {\n",
       "        text-align: right;\n",
       "    }\n",
       "</style>\n",
       "<table border=\"1\" class=\"dataframe\">\n",
       "  <thead>\n",
       "    <tr style=\"text-align: right;\">\n",
       "      <th></th>\n",
       "      <th>out_prncp</th>\n",
       "      <th>int_rate</th>\n",
       "      <th>num_tl_op_past_12m</th>\n",
       "      <th>last_pymnt_amnt</th>\n",
       "      <th>loan_amnt</th>\n",
       "      <th>total_rec_prncp</th>\n",
       "      <th>num_bc_tl</th>\n",
       "      <th>recoveries</th>\n",
       "      <th>total_bc_limit</th>\n",
       "      <th>total_rec_late_fee</th>\n",
       "      <th>total_rec_int</th>\n",
       "      <th>num_rev_tl_bal_gt_0</th>\n",
       "      <th>annual_inc</th>\n",
       "      <th>num_op_rev_tl</th>\n",
       "    </tr>\n",
       "  </thead>\n",
       "  <tbody>\n",
       "    <tr>\n",
       "      <th>0</th>\n",
       "      <td>0.00</td>\n",
       "      <td>0.1075</td>\n",
       "      <td>1.0</td>\n",
       "      <td>14521.94</td>\n",
       "      <td>17600.0</td>\n",
       "      <td>17600.00</td>\n",
       "      <td>9.0</td>\n",
       "      <td>0.0</td>\n",
       "      <td>2300.0</td>\n",
       "      <td>0.0</td>\n",
       "      <td>1105.74</td>\n",
       "      <td>2.0</td>\n",
       "      <td>57109.0</td>\n",
       "      <td>4.0</td>\n",
       "    </tr>\n",
       "    <tr>\n",
       "      <th>1</th>\n",
       "      <td>7716.54</td>\n",
       "      <td>0.0839</td>\n",
       "      <td>1.0</td>\n",
       "      <td>255.80</td>\n",
       "      <td>12500.0</td>\n",
       "      <td>4783.46</td>\n",
       "      <td>6.0</td>\n",
       "      <td>0.0</td>\n",
       "      <td>48400.0</td>\n",
       "      <td>0.0</td>\n",
       "      <td>1855.69</td>\n",
       "      <td>4.0</td>\n",
       "      <td>120000.0</td>\n",
       "      <td>6.0</td>\n",
       "    </tr>\n",
       "    <tr>\n",
       "      <th>2</th>\n",
       "      <td>3145.38</td>\n",
       "      <td>0.1199</td>\n",
       "      <td>2.0</td>\n",
       "      <td>332.10</td>\n",
       "      <td>10000.0</td>\n",
       "      <td>6854.62</td>\n",
       "      <td>7.0</td>\n",
       "      <td>0.0</td>\n",
       "      <td>0.0</td>\n",
       "      <td>0.0</td>\n",
       "      <td>1766.66</td>\n",
       "      <td>3.0</td>\n",
       "      <td>75000.0</td>\n",
       "      <td>5.0</td>\n",
       "    </tr>\n",
       "    <tr>\n",
       "      <th>3</th>\n",
       "      <td>588.27</td>\n",
       "      <td>0.0739</td>\n",
       "      <td>0.0</td>\n",
       "      <td>93.17</td>\n",
       "      <td>3000.0</td>\n",
       "      <td>2411.73</td>\n",
       "      <td>8.0</td>\n",
       "      <td>0.0</td>\n",
       "      <td>42200.0</td>\n",
       "      <td>0.0</td>\n",
       "      <td>301.62</td>\n",
       "      <td>3.0</td>\n",
       "      <td>80000.0</td>\n",
       "      <td>4.0</td>\n",
       "    </tr>\n",
       "    <tr>\n",
       "      <th>4</th>\n",
       "      <td>0.00</td>\n",
       "      <td>0.0649</td>\n",
       "      <td>2.0</td>\n",
       "      <td>1497.52</td>\n",
       "      <td>2000.0</td>\n",
       "      <td>2000.00</td>\n",
       "      <td>16.0</td>\n",
       "      <td>0.0</td>\n",
       "      <td>122100.0</td>\n",
       "      <td>0.0</td>\n",
       "      <td>108.98</td>\n",
       "      <td>7.0</td>\n",
       "      <td>90000.0</td>\n",
       "      <td>17.0</td>\n",
       "    </tr>\n",
       "  </tbody>\n",
       "</table>\n",
       "</div>"
      ],
      "text/plain": [
       "   out_prncp  int_rate  num_tl_op_past_12m  last_pymnt_amnt  loan_amnt  \\\n",
       "0       0.00    0.1075                 1.0         14521.94    17600.0   \n",
       "1    7716.54    0.0839                 1.0           255.80    12500.0   \n",
       "2    3145.38    0.1199                 2.0           332.10    10000.0   \n",
       "3     588.27    0.0739                 0.0            93.17     3000.0   \n",
       "4       0.00    0.0649                 2.0          1497.52     2000.0   \n",
       "\n",
       "   total_rec_prncp  num_bc_tl  recoveries  total_bc_limit  total_rec_late_fee  \\\n",
       "0         17600.00        9.0         0.0          2300.0                 0.0   \n",
       "1          4783.46        6.0         0.0         48400.0                 0.0   \n",
       "2          6854.62        7.0         0.0             0.0                 0.0   \n",
       "3          2411.73        8.0         0.0         42200.0                 0.0   \n",
       "4          2000.00       16.0         0.0        122100.0                 0.0   \n",
       "\n",
       "   total_rec_int  num_rev_tl_bal_gt_0  annual_inc  num_op_rev_tl  \n",
       "0        1105.74                  2.0     57109.0            4.0  \n",
       "1        1855.69                  4.0    120000.0            6.0  \n",
       "2        1766.66                  3.0     75000.0            5.0  \n",
       "3         301.62                  3.0     80000.0            4.0  \n",
       "4         108.98                  7.0     90000.0           17.0  "
      ]
     },
     "execution_count": 23,
     "metadata": {},
     "output_type": "execute_result"
    }
   ],
   "source": [
    "# set nex data with numerical variables\n",
    "selected_X = ['loan_amnt', 'term', 'int_rate', 'annual_inc', 'out_prncp',\n",
    "       'total_rec_prncp', 'total_rec_int', 'total_rec_late_fee', 'recoveries',\n",
    "       'last_pymnt_amnt', 'num_bc_tl', 'num_op_rev_tl', 'num_rev_tl_bal_gt_0',\n",
    "       'num_tl_op_past_12m', 'total_bc_limit', 'financial', 'property',\n",
    "       'MORTGAGE']\n",
    "\n",
    "numerical = list(set(selected_X) - set(data_category))\n",
    "newdata_numerical = data[numerical]\n",
    "newdata_numerical.head()"
   ]
  },
  {
   "cell_type": "code",
   "execution_count": 24,
   "metadata": {},
   "outputs": [
    {
     "data": {
      "text/plain": [
       "(434407, 14)"
      ]
     },
     "execution_count": 24,
     "metadata": {},
     "output_type": "execute_result"
    }
   ],
   "source": [
    "newdata_numerical.shape"
   ]
  },
  {
   "cell_type": "code",
   "execution_count": 25,
   "metadata": {},
   "outputs": [
    {
     "data": {
      "text/plain": [
       "Index(['out_prncp', 'int_rate', 'num_tl_op_past_12m', 'last_pymnt_amnt',\n",
       "       'loan_amnt', 'total_rec_prncp', 'num_bc_tl', 'recoveries',\n",
       "       'total_bc_limit', 'total_rec_late_fee', 'total_rec_int',\n",
       "       'num_rev_tl_bal_gt_0', 'annual_inc', 'num_op_rev_tl'],\n",
       "      dtype='object')"
      ]
     },
     "execution_count": 25,
     "metadata": {},
     "output_type": "execute_result"
    }
   ],
   "source": [
    "newdata_numerical.columns"
   ]
  },
  {
   "cell_type": "code",
   "execution_count": 26,
   "metadata": {},
   "outputs": [
    {
     "data": {
      "text/html": [
       "<div>\n",
       "<style scoped>\n",
       "    .dataframe tbody tr th:only-of-type {\n",
       "        vertical-align: middle;\n",
       "    }\n",
       "\n",
       "    .dataframe tbody tr th {\n",
       "        vertical-align: top;\n",
       "    }\n",
       "\n",
       "    .dataframe thead th {\n",
       "        text-align: right;\n",
       "    }\n",
       "</style>\n",
       "<table border=\"1\" class=\"dataframe\">\n",
       "  <thead>\n",
       "    <tr style=\"text-align: right;\">\n",
       "      <th></th>\n",
       "      <th>out_prncp</th>\n",
       "      <th>int_rate</th>\n",
       "      <th>num_tl_op_past_12m</th>\n",
       "      <th>last_pymnt_amnt</th>\n",
       "      <th>loan_amnt</th>\n",
       "      <th>total_rec_prncp</th>\n",
       "      <th>num_bc_tl</th>\n",
       "      <th>recoveries</th>\n",
       "      <th>total_bc_limit</th>\n",
       "      <th>total_rec_late_fee</th>\n",
       "      <th>total_rec_int</th>\n",
       "      <th>num_rev_tl_bal_gt_0</th>\n",
       "      <th>annual_inc</th>\n",
       "      <th>num_op_rev_tl</th>\n",
       "    </tr>\n",
       "  </thead>\n",
       "  <tbody>\n",
       "    <tr>\n",
       "      <th>count</th>\n",
       "      <td>434407.000000</td>\n",
       "      <td>434407.000000</td>\n",
       "      <td>434407.000000</td>\n",
       "      <td>434407.000000</td>\n",
       "      <td>434407.000000</td>\n",
       "      <td>434407.000000</td>\n",
       "      <td>434407.000000</td>\n",
       "      <td>434407.000000</td>\n",
       "      <td>4.344070e+05</td>\n",
       "      <td>4.344070e+05</td>\n",
       "      <td>434407.000000</td>\n",
       "      <td>434407.000000</td>\n",
       "      <td>4.344070e+05</td>\n",
       "      <td>434407.000000</td>\n",
       "    </tr>\n",
       "    <tr>\n",
       "      <th>mean</th>\n",
       "      <td>4968.585217</td>\n",
       "      <td>0.130421</td>\n",
       "      <td>2.224727</td>\n",
       "      <td>3306.869072</td>\n",
       "      <td>14734.039046</td>\n",
       "      <td>8460.913491</td>\n",
       "      <td>7.629256</td>\n",
       "      <td>92.375649</td>\n",
       "      <td>2.234170e+04</td>\n",
       "      <td>1.400073e+00</td>\n",
       "      <td>2242.643061</td>\n",
       "      <td>5.650565</td>\n",
       "      <td>7.949827e+04</td>\n",
       "      <td>8.315794</td>\n",
       "    </tr>\n",
       "    <tr>\n",
       "      <th>std</th>\n",
       "      <td>6288.505209</td>\n",
       "      <td>0.049308</td>\n",
       "      <td>1.935701</td>\n",
       "      <td>6185.253923</td>\n",
       "      <td>8991.621474</td>\n",
       "      <td>7226.895431</td>\n",
       "      <td>4.662369</td>\n",
       "      <td>556.510933</td>\n",
       "      <td>2.222200e+04</td>\n",
       "      <td>1.062623e+01</td>\n",
       "      <td>2115.219808</td>\n",
       "      <td>3.343577</td>\n",
       "      <td>7.726551e+04</td>\n",
       "      <td>4.753147</td>\n",
       "    </tr>\n",
       "    <tr>\n",
       "      <th>min</th>\n",
       "      <td>0.000000</td>\n",
       "      <td>0.053200</td>\n",
       "      <td>0.000000</td>\n",
       "      <td>0.000000</td>\n",
       "      <td>1000.000000</td>\n",
       "      <td>0.000000</td>\n",
       "      <td>0.000000</td>\n",
       "      <td>0.000000</td>\n",
       "      <td>0.000000e+00</td>\n",
       "      <td>-3.900000e-09</td>\n",
       "      <td>0.000000</td>\n",
       "      <td>0.000000</td>\n",
       "      <td>0.000000e+00</td>\n",
       "      <td>0.000000</td>\n",
       "    </tr>\n",
       "    <tr>\n",
       "      <th>25%</th>\n",
       "      <td>0.000000</td>\n",
       "      <td>0.094900</td>\n",
       "      <td>1.000000</td>\n",
       "      <td>293.670000</td>\n",
       "      <td>8000.000000</td>\n",
       "      <td>3448.560000</td>\n",
       "      <td>4.000000</td>\n",
       "      <td>0.000000</td>\n",
       "      <td>8.000000e+03</td>\n",
       "      <td>0.000000e+00</td>\n",
       "      <td>781.530000</td>\n",
       "      <td>3.000000</td>\n",
       "      <td>4.800000e+04</td>\n",
       "      <td>5.000000</td>\n",
       "    </tr>\n",
       "    <tr>\n",
       "      <th>50%</th>\n",
       "      <td>2649.590000</td>\n",
       "      <td>0.119900</td>\n",
       "      <td>2.000000</td>\n",
       "      <td>527.280000</td>\n",
       "      <td>12400.000000</td>\n",
       "      <td>6044.780000</td>\n",
       "      <td>7.000000</td>\n",
       "      <td>0.000000</td>\n",
       "      <td>1.570000e+04</td>\n",
       "      <td>0.000000e+00</td>\n",
       "      <td>1562.600000</td>\n",
       "      <td>5.000000</td>\n",
       "      <td>6.700000e+04</td>\n",
       "      <td>7.000000</td>\n",
       "    </tr>\n",
       "    <tr>\n",
       "      <th>75%</th>\n",
       "      <td>8051.770000</td>\n",
       "      <td>0.155900</td>\n",
       "      <td>3.000000</td>\n",
       "      <td>2696.325000</td>\n",
       "      <td>20000.000000</td>\n",
       "      <td>11054.470000</td>\n",
       "      <td>10.000000</td>\n",
       "      <td>0.000000</td>\n",
       "      <td>2.900000e+04</td>\n",
       "      <td>0.000000e+00</td>\n",
       "      <td>3018.305000</td>\n",
       "      <td>7.000000</td>\n",
       "      <td>9.500000e+04</td>\n",
       "      <td>11.000000</td>\n",
       "    </tr>\n",
       "    <tr>\n",
       "      <th>max</th>\n",
       "      <td>35331.770000</td>\n",
       "      <td>0.309900</td>\n",
       "      <td>32.000000</td>\n",
       "      <td>42148.530000</td>\n",
       "      <td>40000.000000</td>\n",
       "      <td>40000.000000</td>\n",
       "      <td>79.000000</td>\n",
       "      <td>37153.460000</td>\n",
       "      <td>1.105500e+06</td>\n",
       "      <td>1.188830e+03</td>\n",
       "      <td>19380.530000</td>\n",
       "      <td>59.000000</td>\n",
       "      <td>9.573072e+06</td>\n",
       "      <td>91.000000</td>\n",
       "    </tr>\n",
       "  </tbody>\n",
       "</table>\n",
       "</div>"
      ],
      "text/plain": [
       "           out_prncp       int_rate  num_tl_op_past_12m  last_pymnt_amnt  \\\n",
       "count  434407.000000  434407.000000       434407.000000    434407.000000   \n",
       "mean     4968.585217       0.130421            2.224727      3306.869072   \n",
       "std      6288.505209       0.049308            1.935701      6185.253923   \n",
       "min         0.000000       0.053200            0.000000         0.000000   \n",
       "25%         0.000000       0.094900            1.000000       293.670000   \n",
       "50%      2649.590000       0.119900            2.000000       527.280000   \n",
       "75%      8051.770000       0.155900            3.000000      2696.325000   \n",
       "max     35331.770000       0.309900           32.000000     42148.530000   \n",
       "\n",
       "           loan_amnt  total_rec_prncp      num_bc_tl     recoveries  \\\n",
       "count  434407.000000    434407.000000  434407.000000  434407.000000   \n",
       "mean    14734.039046      8460.913491       7.629256      92.375649   \n",
       "std      8991.621474      7226.895431       4.662369     556.510933   \n",
       "min      1000.000000         0.000000       0.000000       0.000000   \n",
       "25%      8000.000000      3448.560000       4.000000       0.000000   \n",
       "50%     12400.000000      6044.780000       7.000000       0.000000   \n",
       "75%     20000.000000     11054.470000      10.000000       0.000000   \n",
       "max     40000.000000     40000.000000      79.000000   37153.460000   \n",
       "\n",
       "       total_bc_limit  total_rec_late_fee  total_rec_int  num_rev_tl_bal_gt_0  \\\n",
       "count    4.344070e+05        4.344070e+05  434407.000000        434407.000000   \n",
       "mean     2.234170e+04        1.400073e+00    2242.643061             5.650565   \n",
       "std      2.222200e+04        1.062623e+01    2115.219808             3.343577   \n",
       "min      0.000000e+00       -3.900000e-09       0.000000             0.000000   \n",
       "25%      8.000000e+03        0.000000e+00     781.530000             3.000000   \n",
       "50%      1.570000e+04        0.000000e+00    1562.600000             5.000000   \n",
       "75%      2.900000e+04        0.000000e+00    3018.305000             7.000000   \n",
       "max      1.105500e+06        1.188830e+03   19380.530000            59.000000   \n",
       "\n",
       "         annual_inc  num_op_rev_tl  \n",
       "count  4.344070e+05  434407.000000  \n",
       "mean   7.949827e+04       8.315794  \n",
       "std    7.726551e+04       4.753147  \n",
       "min    0.000000e+00       0.000000  \n",
       "25%    4.800000e+04       5.000000  \n",
       "50%    6.700000e+04       7.000000  \n",
       "75%    9.500000e+04      11.000000  \n",
       "max    9.573072e+06      91.000000  "
      ]
     },
     "execution_count": 26,
     "metadata": {},
     "output_type": "execute_result"
    }
   ],
   "source": [
    "newdata_numerical.describe()"
   ]
  },
  {
   "cell_type": "markdown",
   "metadata": {},
   "source": [
    "We want to explore relationship between response variable and predictor variables and relationship between predictor variables. So we decide to compute correlation matrix. Previously when we use data to fit model, we found that it was faster when we used scaled data. Therefore here we also use scaled data to compute correlation matrix."
   ]
  },
  {
   "cell_type": "code",
   "execution_count": 30,
   "metadata": {
    "collapsed": true
   },
   "outputs": [],
   "source": [
    "# set nex data (sca) with numerical variables\n",
    "newdata_numerical_scale = data_lasso[numerical]"
   ]
  },
  {
   "cell_type": "code",
   "execution_count": 31,
   "metadata": {},
   "outputs": [
    {
     "data": {
      "text/plain": [
       "<matplotlib.axes._subplots.AxesSubplot at 0x1bc809f00f0>"
      ]
     },
     "execution_count": 31,
     "metadata": {},
     "output_type": "execute_result"
    },
    {
     "data": {
      "image/png": "[encoded data removed]",
      "text/plain": [
       "<matplotlib.figure.Figure at 0x1bc80ab7f98>"
      ]
     },
     "metadata": {},
     "output_type": "display_data"
    }
   ],
   "source": [
    "# draw correlation matrix and heatmap\n",
    "import seaborn as sns\n",
    "import matplotlib.pyplot as plt\n",
    "fig, ax = plt.subplots(figsize=(8,6)) \n",
    "corr = newdata_numerical_scale.corr()\n",
    "sns.heatmap(abs(corr),cmap=\"Blues\",ax=ax)"
   ]
  },
  {
   "cell_type": "code",
   "execution_count": 32,
   "metadata": {},
   "outputs": [
    {
     "data": {
      "text/html": [
       "<div>\n",
       "<style scoped>\n",
       "    .dataframe tbody tr th:only-of-type {\n",
       "        vertical-align: middle;\n",
       "    }\n",
       "\n",
       "    .dataframe tbody tr th {\n",
       "        vertical-align: top;\n",
       "    }\n",
       "\n",
       "    .dataframe thead th {\n",
       "        text-align: right;\n",
       "    }\n",
       "</style>\n",
       "<table border=\"1\" class=\"dataframe\">\n",
       "  <thead>\n",
       "    <tr style=\"text-align: right;\">\n",
       "      <th></th>\n",
       "      <th>out_prncp</th>\n",
       "      <th>int_rate</th>\n",
       "      <th>num_tl_op_past_12m</th>\n",
       "      <th>last_pymnt_amnt</th>\n",
       "      <th>loan_amnt</th>\n",
       "      <th>total_rec_prncp</th>\n",
       "      <th>num_bc_tl</th>\n",
       "      <th>recoveries</th>\n",
       "      <th>total_bc_limit</th>\n",
       "      <th>total_rec_late_fee</th>\n",
       "      <th>total_rec_int</th>\n",
       "      <th>num_rev_tl_bal_gt_0</th>\n",
       "      <th>annual_inc</th>\n",
       "      <th>num_op_rev_tl</th>\n",
       "    </tr>\n",
       "  </thead>\n",
       "  <tbody>\n",
       "    <tr>\n",
       "      <th>out_prncp</th>\n",
       "      <td>1.000000</td>\n",
       "      <td>0.109354</td>\n",
       "      <td>-0.076279</td>\n",
       "      <td>-0.346314</td>\n",
       "      <td>0.531941</td>\n",
       "      <td>-0.065702</td>\n",
       "      <td>0.074495</td>\n",
       "      <td>-0.131151</td>\n",
       "      <td>0.183874</td>\n",
       "      <td>0.045709</td>\n",
       "      <td>0.682768</td>\n",
       "      <td>0.111197</td>\n",
       "      <td>0.156549</td>\n",
       "      <td>0.077036</td>\n",
       "    </tr>\n",
       "    <tr>\n",
       "      <th>int_rate</th>\n",
       "      <td>0.109354</td>\n",
       "      <td>1.000000</td>\n",
       "      <td>0.227151</td>\n",
       "      <td>0.065918</td>\n",
       "      <td>0.138625</td>\n",
       "      <td>-0.069325</td>\n",
       "      <td>-0.094410</td>\n",
       "      <td>0.143068</td>\n",
       "      <td>-0.210946</td>\n",
       "      <td>0.071627</td>\n",
       "      <td>0.474430</td>\n",
       "      <td>0.066796</td>\n",
       "      <td>-0.086169</td>\n",
       "      <td>-0.011884</td>\n",
       "    </tr>\n",
       "    <tr>\n",
       "      <th>num_tl_op_past_12m</th>\n",
       "      <td>-0.076279</td>\n",
       "      <td>0.227151</td>\n",
       "      <td>1.000000</td>\n",
       "      <td>0.049750</td>\n",
       "      <td>-0.019302</td>\n",
       "      <td>-0.008769</td>\n",
       "      <td>0.246000</td>\n",
       "      <td>0.055602</td>\n",
       "      <td>0.051642</td>\n",
       "      <td>0.015495</td>\n",
       "      <td>0.037647</td>\n",
       "      <td>0.266691</td>\n",
       "      <td>0.051651</td>\n",
       "      <td>0.365220</td>\n",
       "    </tr>\n",
       "    <tr>\n",
       "      <th>last_pymnt_amnt</th>\n",
       "      <td>-0.346314</td>\n",
       "      <td>0.065918</td>\n",
       "      <td>0.049750</td>\n",
       "      <td>1.000000</td>\n",
       "      <td>0.320882</td>\n",
       "      <td>0.778589</td>\n",
       "      <td>0.097827</td>\n",
       "      <td>-0.071597</td>\n",
       "      <td>0.132947</td>\n",
       "      <td>-0.025014</td>\n",
       "      <td>0.006610</td>\n",
       "      <td>0.004662</td>\n",
       "      <td>0.110693</td>\n",
       "      <td>0.053430</td>\n",
       "    </tr>\n",
       "    <tr>\n",
       "      <th>loan_amnt</th>\n",
       "      <td>0.531941</td>\n",
       "      <td>0.138625</td>\n",
       "      <td>-0.019302</td>\n",
       "      <td>0.320882</td>\n",
       "      <td>1.000000</td>\n",
       "      <td>0.653621</td>\n",
       "      <td>0.214271</td>\n",
       "      <td>0.120202</td>\n",
       "      <td>0.373556</td>\n",
       "      <td>0.084394</td>\n",
       "      <td>0.719434</td>\n",
       "      <td>0.161313</td>\n",
       "      <td>0.307442</td>\n",
       "      <td>0.170019</td>\n",
       "    </tr>\n",
       "    <tr>\n",
       "      <th>total_rec_prncp</th>\n",
       "      <td>-0.065702</td>\n",
       "      <td>-0.069325</td>\n",
       "      <td>-0.008769</td>\n",
       "      <td>0.778589</td>\n",
       "      <td>0.653621</td>\n",
       "      <td>1.000000</td>\n",
       "      <td>0.180400</td>\n",
       "      <td>-0.128802</td>\n",
       "      <td>0.303056</td>\n",
       "      <td>0.007546</td>\n",
       "      <td>0.276272</td>\n",
       "      <td>0.073689</td>\n",
       "      <td>0.232683</td>\n",
       "      <td>0.116841</td>\n",
       "    </tr>\n",
       "    <tr>\n",
       "      <th>num_bc_tl</th>\n",
       "      <td>0.074495</td>\n",
       "      <td>-0.094410</td>\n",
       "      <td>0.246000</td>\n",
       "      <td>0.097827</td>\n",
       "      <td>0.214271</td>\n",
       "      <td>0.180400</td>\n",
       "      <td>1.000000</td>\n",
       "      <td>0.021036</td>\n",
       "      <td>0.537191</td>\n",
       "      <td>-0.010164</td>\n",
       "      <td>0.091133</td>\n",
       "      <td>0.511279</td>\n",
       "      <td>0.135779</td>\n",
       "      <td>0.657704</td>\n",
       "    </tr>\n",
       "    <tr>\n",
       "      <th>recoveries</th>\n",
       "      <td>-0.131151</td>\n",
       "      <td>0.143068</td>\n",
       "      <td>0.055602</td>\n",
       "      <td>-0.071597</td>\n",
       "      <td>0.120202</td>\n",
       "      <td>-0.128802</td>\n",
       "      <td>0.021036</td>\n",
       "      <td>1.000000</td>\n",
       "      <td>0.001439</td>\n",
       "      <td>0.048622</td>\n",
       "      <td>0.004489</td>\n",
       "      <td>0.024400</td>\n",
       "      <td>0.016917</td>\n",
       "      <td>0.023644</td>\n",
       "    </tr>\n",
       "    <tr>\n",
       "      <th>total_bc_limit</th>\n",
       "      <td>0.183874</td>\n",
       "      <td>-0.210946</td>\n",
       "      <td>0.051642</td>\n",
       "      <td>0.132947</td>\n",
       "      <td>0.373556</td>\n",
       "      <td>0.303056</td>\n",
       "      <td>0.537191</td>\n",
       "      <td>0.001439</td>\n",
       "      <td>1.000000</td>\n",
       "      <td>-0.009938</td>\n",
       "      <td>0.137288</td>\n",
       "      <td>0.320432</td>\n",
       "      <td>0.268748</td>\n",
       "      <td>0.437927</td>\n",
       "    </tr>\n",
       "    <tr>\n",
       "      <th>total_rec_late_fee</th>\n",
       "      <td>0.045709</td>\n",
       "      <td>0.071627</td>\n",
       "      <td>0.015495</td>\n",
       "      <td>-0.025014</td>\n",
       "      <td>0.084394</td>\n",
       "      <td>0.007546</td>\n",
       "      <td>-0.010164</td>\n",
       "      <td>0.048622</td>\n",
       "      <td>-0.009938</td>\n",
       "      <td>1.000000</td>\n",
       "      <td>0.108788</td>\n",
       "      <td>0.002311</td>\n",
       "      <td>0.033394</td>\n",
       "      <td>-0.010827</td>\n",
       "    </tr>\n",
       "    <tr>\n",
       "      <th>total_rec_int</th>\n",
       "      <td>0.682768</td>\n",
       "      <td>0.474430</td>\n",
       "      <td>0.037647</td>\n",
       "      <td>0.006610</td>\n",
       "      <td>0.719434</td>\n",
       "      <td>0.276272</td>\n",
       "      <td>0.091133</td>\n",
       "      <td>0.004489</td>\n",
       "      <td>0.137288</td>\n",
       "      <td>0.108788</td>\n",
       "      <td>1.000000</td>\n",
       "      <td>0.160696</td>\n",
       "      <td>0.154621</td>\n",
       "      <td>0.109669</td>\n",
       "    </tr>\n",
       "    <tr>\n",
       "      <th>num_rev_tl_bal_gt_0</th>\n",
       "      <td>0.111197</td>\n",
       "      <td>0.066796</td>\n",
       "      <td>0.266691</td>\n",
       "      <td>0.004662</td>\n",
       "      <td>0.161313</td>\n",
       "      <td>0.073689</td>\n",
       "      <td>0.511279</td>\n",
       "      <td>0.024400</td>\n",
       "      <td>0.320432</td>\n",
       "      <td>0.002311</td>\n",
       "      <td>0.160696</td>\n",
       "      <td>1.000000</td>\n",
       "      <td>0.081732</td>\n",
       "      <td>0.804704</td>\n",
       "    </tr>\n",
       "    <tr>\n",
       "      <th>annual_inc</th>\n",
       "      <td>0.156549</td>\n",
       "      <td>-0.086169</td>\n",
       "      <td>0.051651</td>\n",
       "      <td>0.110693</td>\n",
       "      <td>0.307442</td>\n",
       "      <td>0.232683</td>\n",
       "      <td>0.135779</td>\n",
       "      <td>0.016917</td>\n",
       "      <td>0.268748</td>\n",
       "      <td>0.033394</td>\n",
       "      <td>0.154621</td>\n",
       "      <td>0.081732</td>\n",
       "      <td>1.000000</td>\n",
       "      <td>0.082467</td>\n",
       "    </tr>\n",
       "    <tr>\n",
       "      <th>num_op_rev_tl</th>\n",
       "      <td>0.077036</td>\n",
       "      <td>-0.011884</td>\n",
       "      <td>0.365220</td>\n",
       "      <td>0.053430</td>\n",
       "      <td>0.170019</td>\n",
       "      <td>0.116841</td>\n",
       "      <td>0.657704</td>\n",
       "      <td>0.023644</td>\n",
       "      <td>0.437927</td>\n",
       "      <td>-0.010827</td>\n",
       "      <td>0.109669</td>\n",
       "      <td>0.804704</td>\n",
       "      <td>0.082467</td>\n",
       "      <td>1.000000</td>\n",
       "    </tr>\n",
       "  </tbody>\n",
       "</table>\n",
       "</div>"
      ],
      "text/plain": [
       "                     out_prncp  int_rate  num_tl_op_past_12m  last_pymnt_amnt  \\\n",
       "out_prncp             1.000000  0.109354           -0.076279        -0.346314   \n",
       "int_rate              0.109354  1.000000            0.227151         0.065918   \n",
       "num_tl_op_past_12m   -0.076279  0.227151            1.000000         0.049750   \n",
       "last_pymnt_amnt      -0.346314  0.065918            0.049750         1.000000   \n",
       "loan_amnt             0.531941  0.138625           -0.019302         0.320882   \n",
       "total_rec_prncp      -0.065702 -0.069325           -0.008769         0.778589   \n",
       "num_bc_tl             0.074495 -0.094410            0.246000         0.097827   \n",
       "recoveries           -0.131151  0.143068            0.055602        -0.071597   \n",
       "total_bc_limit        0.183874 -0.210946            0.051642         0.132947   \n",
       "total_rec_late_fee    0.045709  0.071627            0.015495        -0.025014   \n",
       "total_rec_int         0.682768  0.474430            0.037647         0.006610   \n",
       "num_rev_tl_bal_gt_0   0.111197  0.066796            0.266691         0.004662   \n",
       "annual_inc            0.156549 -0.086169            0.051651         0.110693   \n",
       "num_op_rev_tl         0.077036 -0.011884            0.365220         0.053430   \n",
       "\n",
       "                     loan_amnt  total_rec_prncp  num_bc_tl  recoveries  \\\n",
       "out_prncp             0.531941        -0.065702   0.074495   -0.131151   \n",
       "int_rate              0.138625        -0.069325  -0.094410    0.143068   \n",
       "num_tl_op_past_12m   -0.019302        -0.008769   0.246000    0.055602   \n",
       "last_pymnt_amnt       0.320882         0.778589   0.097827   -0.071597   \n",
       "loan_amnt             1.000000         0.653621   0.214271    0.120202   \n",
       "total_rec_prncp       0.653621         1.000000   0.180400   -0.128802   \n",
       "num_bc_tl             0.214271         0.180400   1.000000    0.021036   \n",
       "recoveries            0.120202        -0.128802   0.021036    1.000000   \n",
       "total_bc_limit        0.373556         0.303056   0.537191    0.001439   \n",
       "total_rec_late_fee    0.084394         0.007546  -0.010164    0.048622   \n",
       "total_rec_int         0.719434         0.276272   0.091133    0.004489   \n",
       "num_rev_tl_bal_gt_0   0.161313         0.073689   0.511279    0.024400   \n",
       "annual_inc            0.307442         0.232683   0.135779    0.016917   \n",
       "num_op_rev_tl         0.170019         0.116841   0.657704    0.023644   \n",
       "\n",
       "                     total_bc_limit  total_rec_late_fee  total_rec_int  \\\n",
       "out_prncp                  0.183874            0.045709       0.682768   \n",
       "int_rate                  -0.210946            0.071627       0.474430   \n",
       "num_tl_op_past_12m         0.051642            0.015495       0.037647   \n",
       "last_pymnt_amnt            0.132947           -0.025014       0.006610   \n",
       "loan_amnt                  0.373556            0.084394       0.719434   \n",
       "total_rec_prncp            0.303056            0.007546       0.276272   \n",
       "num_bc_tl                  0.537191           -0.010164       0.091133   \n",
       "recoveries                 0.001439            0.048622       0.004489   \n",
       "total_bc_limit             1.000000           -0.009938       0.137288   \n",
       "total_rec_late_fee        -0.009938            1.000000       0.108788   \n",
       "total_rec_int              0.137288            0.108788       1.000000   \n",
       "num_rev_tl_bal_gt_0        0.320432            0.002311       0.160696   \n",
       "annual_inc                 0.268748            0.033394       0.154621   \n",
       "num_op_rev_tl              0.437927           -0.010827       0.109669   \n",
       "\n",
       "                     num_rev_tl_bal_gt_0  annual_inc  num_op_rev_tl  \n",
       "out_prncp                       0.111197    0.156549       0.077036  \n",
       "int_rate                        0.066796   -0.086169      -0.011884  \n",
       "num_tl_op_past_12m              0.266691    0.051651       0.365220  \n",
       "last_pymnt_amnt                 0.004662    0.110693       0.053430  \n",
       "loan_amnt                       0.161313    0.307442       0.170019  \n",
       "total_rec_prncp                 0.073689    0.232683       0.116841  \n",
       "num_bc_tl                       0.511279    0.135779       0.657704  \n",
       "recoveries                      0.024400    0.016917       0.023644  \n",
       "total_bc_limit                  0.320432    0.268748       0.437927  \n",
       "total_rec_late_fee              0.002311    0.033394      -0.010827  \n",
       "total_rec_int                   0.160696    0.154621       0.109669  \n",
       "num_rev_tl_bal_gt_0             1.000000    0.081732       0.804704  \n",
       "annual_inc                      0.081732    1.000000       0.082467  \n",
       "num_op_rev_tl                   0.804704    0.082467       1.000000  "
      ]
     },
     "execution_count": 32,
     "metadata": {},
     "output_type": "execute_result"
    }
   ],
   "source": [
    "# show coefficients\n",
    "corr"
   ]
  },
  {
   "cell_type": "markdown",
   "metadata": {},
   "source": [
    "From the above correlation matrix and coefficients we can see that there seems no severe multicollinearity, which means our model fits data well. We also notice that our model selects many variables concerning accounts, such as num_bc_tl, num_op_rev_tl and num_tl_op_past_12m. We want to explore the relationship between these variables and we also draw heatmap."
   ]
  },
  {
   "cell_type": "code",
   "execution_count": 33,
   "metadata": {},
   "outputs": [
    {
     "data": {
      "text/html": [
       "<div>\n",
       "<style scoped>\n",
       "    .dataframe tbody tr th:only-of-type {\n",
       "        vertical-align: middle;\n",
       "    }\n",
       "\n",
       "    .dataframe tbody tr th {\n",
       "        vertical-align: top;\n",
       "    }\n",
       "\n",
       "    .dataframe thead th {\n",
       "        text-align: right;\n",
       "    }\n",
       "</style>\n",
       "<table border=\"1\" class=\"dataframe\">\n",
       "  <thead>\n",
       "    <tr style=\"text-align: right;\">\n",
       "      <th></th>\n",
       "      <th>num_bc_tl</th>\n",
       "      <th>num_op_rev_tl</th>\n",
       "      <th>num_tl_op_past_12m</th>\n",
       "    </tr>\n",
       "  </thead>\n",
       "  <tbody>\n",
       "    <tr>\n",
       "      <th>0</th>\n",
       "      <td>0.294002</td>\n",
       "      <td>-0.907988</td>\n",
       "      <td>-0.632705</td>\n",
       "    </tr>\n",
       "    <tr>\n",
       "      <th>1</th>\n",
       "      <td>-0.349448</td>\n",
       "      <td>-0.487213</td>\n",
       "      <td>-0.632705</td>\n",
       "    </tr>\n",
       "    <tr>\n",
       "      <th>2</th>\n",
       "      <td>-0.134965</td>\n",
       "      <td>-0.697600</td>\n",
       "      <td>-0.116096</td>\n",
       "    </tr>\n",
       "    <tr>\n",
       "      <th>3</th>\n",
       "      <td>0.079519</td>\n",
       "      <td>-0.907988</td>\n",
       "      <td>-1.149315</td>\n",
       "    </tr>\n",
       "    <tr>\n",
       "      <th>4</th>\n",
       "      <td>1.795386</td>\n",
       "      <td>1.827046</td>\n",
       "      <td>-0.116096</td>\n",
       "    </tr>\n",
       "  </tbody>\n",
       "</table>\n",
       "</div>"
      ],
      "text/plain": [
       "   num_bc_tl  num_op_rev_tl  num_tl_op_past_12m\n",
       "0   0.294002      -0.907988           -0.632705\n",
       "1  -0.349448      -0.487213           -0.632705\n",
       "2  -0.134965      -0.697600           -0.116096\n",
       "3   0.079519      -0.907988           -1.149315\n",
       "4   1.795386       1.827046           -0.116096"
      ]
     },
     "execution_count": 33,
     "metadata": {},
     "output_type": "execute_result"
    }
   ],
   "source": [
    "account = ['num_bc_tl','num_op_rev_tl','num_tl_op_past_12m']\n",
    "newdata_numerical_account = data_lasso[account]\n",
    "newdata_numerical_account.head()"
   ]
  },
  {
   "cell_type": "code",
   "execution_count": 34,
   "metadata": {},
   "outputs": [
    {
     "data": {
      "text/plain": [
       "<matplotlib.axes._subplots.AxesSubplot at 0x1bc80ba5710>"
      ]
     },
     "execution_count": 34,
     "metadata": {},
     "output_type": "execute_result"
    },
    {
     "data": {
      "image/png": "[encoded data removed]",
      "text/plain": [
       "<matplotlib.figure.Figure at 0x1bc80bb7748>"
      ]
     },
     "metadata": {},
     "output_type": "display_data"
    }
   ],
   "source": [
    "fig, ax = plt.subplots(figsize=(5,4)) \n",
    "corr = newdata_numerical_account.corr()\n",
    "sns.heatmap(corr,cmap=\"Blues\",ax=ax)"
   ]
  },
  {
   "cell_type": "code",
   "execution_count": 35,
   "metadata": {},
   "outputs": [
    {
     "data": {
      "text/html": [
       "<div>\n",
       "<style scoped>\n",
       "    .dataframe tbody tr th:only-of-type {\n",
       "        vertical-align: middle;\n",
       "    }\n",
       "\n",
       "    .dataframe tbody tr th {\n",
       "        vertical-align: top;\n",
       "    }\n",
       "\n",
       "    .dataframe thead th {\n",
       "        text-align: right;\n",
       "    }\n",
       "</style>\n",
       "<table border=\"1\" class=\"dataframe\">\n",
       "  <thead>\n",
       "    <tr style=\"text-align: right;\">\n",
       "      <th></th>\n",
       "      <th>num_bc_tl</th>\n",
       "      <th>num_op_rev_tl</th>\n",
       "      <th>num_tl_op_past_12m</th>\n",
       "    </tr>\n",
       "  </thead>\n",
       "  <tbody>\n",
       "    <tr>\n",
       "      <th>num_bc_tl</th>\n",
       "      <td>1.000000</td>\n",
       "      <td>0.657704</td>\n",
       "      <td>0.24600</td>\n",
       "    </tr>\n",
       "    <tr>\n",
       "      <th>num_op_rev_tl</th>\n",
       "      <td>0.657704</td>\n",
       "      <td>1.000000</td>\n",
       "      <td>0.36522</td>\n",
       "    </tr>\n",
       "    <tr>\n",
       "      <th>num_tl_op_past_12m</th>\n",
       "      <td>0.246000</td>\n",
       "      <td>0.365220</td>\n",
       "      <td>1.00000</td>\n",
       "    </tr>\n",
       "  </tbody>\n",
       "</table>\n",
       "</div>"
      ],
      "text/plain": [
       "                    num_bc_tl  num_op_rev_tl  num_tl_op_past_12m\n",
       "num_bc_tl            1.000000       0.657704             0.24600\n",
       "num_op_rev_tl        0.657704       1.000000             0.36522\n",
       "num_tl_op_past_12m   0.246000       0.365220             1.00000"
      ]
     },
     "execution_count": 35,
     "metadata": {},
     "output_type": "execute_result"
    }
   ],
   "source": [
    "# show coefficients\n",
    "corr"
   ]
  },
  {
   "cell_type": "markdown",
   "metadata": {},
   "source": [
    "By exploring relationship between variables concerning accounts, we find that they are not highly correlated.  \n",
    "Next we want to explore relationship between response variable and some predictor variables we are interested in.  \n",
    "We start with loan status and loan amount."
   ]
  },
  {
   "cell_type": "code",
   "execution_count": 36,
   "metadata": {
    "collapsed": true
   },
   "outputs": [],
   "source": [
    "numerical = ['loan_status'] + numerical\n",
    "newdata_numerical = data[numerical]"
   ]
  },
  {
   "cell_type": "code",
   "execution_count": 37,
   "metadata": {},
   "outputs": [
    {
     "data": {
      "text/plain": [
       "loan_status\n",
       "0.0     57600\n",
       "1.0    376807\n",
       "Name: loan_amnt, dtype: int64"
      ]
     },
     "execution_count": 37,
     "metadata": {},
     "output_type": "execute_result"
    }
   ],
   "source": [
    "newdata_numerical['loan_amnt'].groupby(newdata_numerical['loan_status']).count()"
   ]
  },
  {
   "cell_type": "markdown",
   "metadata": {},
   "source": [
    "From the count we can see that most of borrowers are in good loan status. However, there is still a small portion that \n",
    "borrowers pay money back late."
   ]
  },
  {
   "cell_type": "code",
   "execution_count": 38,
   "metadata": {},
   "outputs": [
    {
     "data": {
      "text/plain": [
       "loan_status\n",
       "0.0    15651.879340\n",
       "1.0    14593.734856\n",
       "Name: loan_amnt, dtype: float64"
      ]
     },
     "execution_count": 38,
     "metadata": {},
     "output_type": "execute_result"
    }
   ],
   "source": [
    "newdata_numerical['loan_amnt'].groupby(newdata_numerical['loan_status']).mean()"
   ]
  },
  {
   "cell_type": "code",
   "execution_count": 39,
   "metadata": {},
   "outputs": [
    {
     "data": {
      "image/png": "[encoded data removed]",
      "text/plain": [
       "<matplotlib.figure.Figure at 0x1bc809c0c88>"
      ]
     },
     "metadata": {},
     "output_type": "display_data"
    }
   ],
   "source": [
    "sns.set_style(\"whitegrid\")\n",
    "ax = sns.boxplot(x=\"loan_status\", y=\"loan_amnt\", data=newdata_numerical)"
   ]
  },
  {
   "cell_type": "markdown",
   "metadata": {},
   "source": [
    "From the boxplot above we can see there seems no significant difference in loan amount between two loan status, this result is consistent with the  correlation coefficient between loan amount and two loan status, which is -0.039910.  \n",
    "Then we come to loan status and interest rate."
   ]
  },
  {
   "cell_type": "code",
   "execution_count": 40,
   "metadata": {},
   "outputs": [
    {
     "data": {
      "text/plain": [
       "loan_status\n",
       "0.0    0.158339\n",
       "1.0    0.126153\n",
       "Name: int_rate, dtype: float64"
      ]
     },
     "execution_count": 40,
     "metadata": {},
     "output_type": "execute_result"
    }
   ],
   "source": [
    "newdata_numerical['int_rate'].groupby(newdata_numerical['loan_status']).mean()"
   ]
  },
  {
   "cell_type": "code",
   "execution_count": 41,
   "metadata": {},
   "outputs": [
    {
     "data": {
      "image/png": "[encoded data removed]",
      "text/plain": [
       "<matplotlib.figure.Figure at 0x1bc80bd6630>"
      ]
     },
     "metadata": {},
     "output_type": "display_data"
    }
   ],
   "source": [
    "sns.set_style(\"whitegrid\")\n",
    "ax = sns.boxplot(x=\"loan_status\", y=\"int_rate\", data=newdata_numerical)"
   ]
  },
  {
   "cell_type": "markdown",
   "metadata": {},
   "source": [
    "It is obvious that average interest rate of bad loan status in much higner than that in goood status. This result also makes sense because borrowers with high loan credit grade can borrow money with low interest rate and they are more likely to pay money back in time compared with those with low loan credit grade.\n",
    "Last but not least, we are interested in relationship between loan status and recoveries."
   ]
  },
  {
   "cell_type": "markdown",
   "metadata": {},
   "source": [
    "#### 2.4.2 Categorical Variables\n",
    "\n",
    "Then we focus on categorical variables and we want to draw barplot for pairs of each categorical variable and response variable."
   ]
  },
  {
   "cell_type": "code",
   "execution_count": 43,
   "metadata": {},
   "outputs": [
    {
     "data": {
      "text/html": [
       "<div>\n",
       "<style scoped>\n",
       "    .dataframe tbody tr th:only-of-type {\n",
       "        vertical-align: middle;\n",
       "    }\n",
       "\n",
       "    .dataframe tbody tr th {\n",
       "        vertical-align: top;\n",
       "    }\n",
       "\n",
       "    .dataframe thead th {\n",
       "        text-align: right;\n",
       "    }\n",
       "</style>\n",
       "<table border=\"1\" class=\"dataframe\">\n",
       "  <thead>\n",
       "    <tr style=\"text-align: right;\">\n",
       "      <th></th>\n",
       "      <th>loan_status</th>\n",
       "      <th>term</th>\n",
       "      <th>financial</th>\n",
       "      <th>MORTGAGE</th>\n",
       "      <th>property</th>\n",
       "    </tr>\n",
       "  </thead>\n",
       "  <tbody>\n",
       "    <tr>\n",
       "      <th>0</th>\n",
       "      <td>1.0</td>\n",
       "      <td>1.0</td>\n",
       "      <td>1.0</td>\n",
       "      <td>0.0</td>\n",
       "      <td>0.0</td>\n",
       "    </tr>\n",
       "    <tr>\n",
       "      <th>1</th>\n",
       "      <td>1.0</td>\n",
       "      <td>0.0</td>\n",
       "      <td>1.0</td>\n",
       "      <td>0.0</td>\n",
       "      <td>0.0</td>\n",
       "    </tr>\n",
       "    <tr>\n",
       "      <th>2</th>\n",
       "      <td>1.0</td>\n",
       "      <td>1.0</td>\n",
       "      <td>1.0</td>\n",
       "      <td>1.0</td>\n",
       "      <td>0.0</td>\n",
       "    </tr>\n",
       "    <tr>\n",
       "      <th>3</th>\n",
       "      <td>1.0</td>\n",
       "      <td>1.0</td>\n",
       "      <td>1.0</td>\n",
       "      <td>0.0</td>\n",
       "      <td>0.0</td>\n",
       "    </tr>\n",
       "    <tr>\n",
       "      <th>4</th>\n",
       "      <td>1.0</td>\n",
       "      <td>1.0</td>\n",
       "      <td>1.0</td>\n",
       "      <td>0.0</td>\n",
       "      <td>0.0</td>\n",
       "    </tr>\n",
       "  </tbody>\n",
       "</table>\n",
       "</div>"
      ],
      "text/plain": [
       "   loan_status  term  financial  MORTGAGE  property\n",
       "0          1.0   1.0        1.0       0.0       0.0\n",
       "1          1.0   0.0        1.0       0.0       0.0\n",
       "2          1.0   1.0        1.0       1.0       0.0\n",
       "3          1.0   1.0        1.0       0.0       0.0\n",
       "4          1.0   1.0        1.0       0.0       0.0"
      ]
     },
     "execution_count": 43,
     "metadata": {},
     "output_type": "execute_result"
    }
   ],
   "source": [
    "# set nex data with categorical variables\n",
    "categorical = list(set(selected_X) - set(numerical))\n",
    "categorical = ['loan_status'] + categorical\n",
    "newdata_categorical = data[categorical]\n",
    "newdata_categorical.head()"
   ]
  },
  {
   "cell_type": "code",
   "execution_count": 44,
   "metadata": {},
   "outputs": [
    {
     "data": {
      "image/png": "[encoded data removed]",
      "text/plain": [
       "<matplotlib.figure.Figure at 0x1bc80c45630>"
      ]
     },
     "metadata": {},
     "output_type": "display_data"
    },
    {
     "data": {
      "image/png": "[encoded data removed]",
      "text/plain": [
       "<matplotlib.figure.Figure at 0x1bc80d8c198>"
      ]
     },
     "metadata": {},
     "output_type": "display_data"
    },
    {
     "data": {
      "image/png": "[encoded data removed]",
      "text/plain": [
       "<matplotlib.figure.Figure at 0x1bc80e41550>"
      ]
     },
     "metadata": {},
     "output_type": "display_data"
    },
    {
     "data": {
      "image/png": "[encoded data removed]",
      "text/plain": [
       "<matplotlib.figure.Figure at 0x1bc80e3b198>"
      ]
     },
     "metadata": {},
     "output_type": "display_data"
    }
   ],
   "source": [
    "# draw barplot\n",
    "sns.set(style=\"darkgrid\")\n",
    "buckets = ['MORTGAGE','financial','term', 'property']\n",
    "for i in buckets:\n",
    "    sns.countplot(x = i, hue = \"loan_status\", data = newdata_categorical)\n",
    "    plt.show()"
   ]
  },
  {
   "cell_type": "markdown",
   "metadata": {},
   "source": [
    "From the above 4 barplot, we can conclude that whatever the value of each dummy variable, number of loan in good status is much more than that in bad status, indicating most borrowers can pay money back in time, which is also consistent with what we find in last part. However, there is significant difference between these dummy variables.    \n",
    "For __home_ownership__, we can see nearly half of borrowers are in __mortgage__ status and most of these borrowers are in good loan status.  \n",
    "For __purpose__, we can see most borrowers borrow money for __financial__  use and larger proportion of these borrowers are in good loan status.  \n",
    "For __term__, we can see most borrowers are in a 36-month loan period and larger proportion of these borrowers are in good loan status.  \n",
    "For __purpose__, we can see few borrowers borrow money for __property__ and smaller proportion of these borrowers are in good loan status."
   ]
  }
 ],
 "metadata": {
  "kernelspec": {
   "display_name": "Python 3",
   "language": "python",
   "name": "python3"
  },
  "language_info": {
   "codemirror_mode": {
    "name": "ipython",
    "version": 3
   },
   "file_extension": ".py",
   "mimetype": "text/x-python",
   "name": "python",
   "nbconvert_exporter": "python",
   "pygments_lexer": "ipython3",
   "version": "3.6.1"
  }
 },
 "nbformat": 4,
 "nbformat_minor": 2
}
